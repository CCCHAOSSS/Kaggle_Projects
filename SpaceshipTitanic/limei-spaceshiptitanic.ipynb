{
 "metadata": {
  "kernelspec": {
   "language": "python",
   "display_name": "Python 3",
   "name": "python3"
  },
  "language_info": {
   "name": "python",
   "version": "3.10.13",
   "mimetype": "text/x-python",
   "codemirror_mode": {
    "name": "ipython",
    "version": 3
   },
   "pygments_lexer": "ipython3",
   "nbconvert_exporter": "python",
   "file_extension": ".py"
  },
  "kaggle": {
   "accelerator": "none",
   "dataSources": [
    {
     "sourceId": 34377,
     "databundleVersionId": 3220602,
     "sourceType": "competition"
    }
   ],
   "dockerImageVersionId": 30673,
   "isInternetEnabled": true,
   "language": "python",
   "sourceType": "notebook",
   "isGpuEnabled": false
  }
 },
 "nbformat_minor": 4,
 "nbformat": 4,
 "cells": [
  {
   "cell_type": "code",
   "source": [
    "\n",
    "# Input data files are available in the read-only \"../input/\" directory\n",
    "# For example, running this (by clicking run or pressing Shift+Enter) will list all files under the input directory\n",
    "\n",
    "import os\n",
    "for dirname, _, filenames in os.walk('/kaggle/input'):\n",
    "    for filename in filenames:\n",
    "        print(os.path.join(dirname, filename))\n",
    "\n",
    "# You can write up to 20GB to the current directory (/kaggle/working/) that gets preserved as output when you create a version using \"Save & Run All\" \n",
    "# You can also write temporary files to /kaggle/temp/, but they won't be saved outside of the current session"
   ],
   "metadata": {
    "_uuid": "8f2839f25d086af736a60e9eeb907d3b93b6e0e5",
    "_cell_guid": "b1076dfc-b9ad-4769-8c92-a6c4dae69d19",
    "execution": {
     "iopub.status.busy": "2024-04-02T01:24:24.987933Z",
     "iopub.execute_input": "2024-04-02T01:24:24.988331Z",
     "iopub.status.idle": "2024-04-02T01:24:25.017916Z",
     "shell.execute_reply.started": "2024-04-02T01:24:24.988298Z",
     "shell.execute_reply": "2024-04-02T01:24:25.016816Z"
    },
    "trusted": true,
    "pycharm": {
     "name": "#%%\n"
    }
   },
   "execution_count": 1,
   "outputs": [
    {
     "name": "stdout",
     "text": "/kaggle/input/spaceship-titanic/sample_submission.csv\n/kaggle/input/spaceship-titanic/train.csv\n/kaggle/input/spaceship-titanic/test.csv\n",
     "output_type": "stream"
    }
   ]
  },
  {
   "cell_type": "markdown",
   "source": [
    "## 查看数据集"
   ],
   "metadata": {
    "pycharm": {
     "name": "#%% md\n"
    }
   }
  },
  {
   "cell_type": "code",
   "source": [
    "import numpy as np \n",
    "import pandas as pd \n",
    "import matplotlib.pyplot as plt\n",
    "import seaborn as sns\n"
   ],
   "metadata": {
    "execution": {
     "iopub.status.busy": "2024-04-02T01:24:25.075864Z",
     "iopub.execute_input": "2024-04-02T01:24:25.076216Z",
     "iopub.status.idle": "2024-04-02T01:24:27.375545Z",
     "shell.execute_reply.started": "2024-04-02T01:24:25.076191Z",
     "shell.execute_reply": "2024-04-02T01:24:27.374684Z"
    },
    "trusted": true,
    "pycharm": {
     "name": "#%%\n"
    }
   },
   "execution_count": 2,
   "outputs": []
  },
  {
   "cell_type": "code",
   "source": [
    "train_set = pd.read_csv(\"/kaggle/input/spaceship-titanic/train.csv\")\n",
    "test_set = pd.read_csv(\"/kaggle/input/spaceship-titanic/test.csv\")"
   ],
   "metadata": {
    "execution": {
     "iopub.status.busy": "2024-04-02T01:24:27.377052Z",
     "iopub.execute_input": "2024-04-02T01:24:27.378818Z",
     "iopub.status.idle": "2024-04-02T01:24:27.461777Z",
     "shell.execute_reply.started": "2024-04-02T01:24:27.378791Z",
     "shell.execute_reply": "2024-04-02T01:24:27.460443Z"
    },
    "trusted": true,
    "pycharm": {
     "name": "#%%\n"
    }
   },
   "execution_count": 3,
   "outputs": []
  },
  {
   "cell_type": "code",
   "source": [
    "train_set.head(10)"
   ],
   "metadata": {
    "execution": {
     "iopub.status.busy": "2024-04-02T01:24:27.463283Z",
     "iopub.execute_input": "2024-04-02T01:24:27.463647Z",
     "iopub.status.idle": "2024-04-02T01:24:27.495554Z",
     "shell.execute_reply.started": "2024-04-02T01:24:27.463615Z",
     "shell.execute_reply": "2024-04-02T01:24:27.494360Z"
    },
    "trusted": true,
    "pycharm": {
     "name": "#%%\n"
    }
   },
   "execution_count": 4,
   "outputs": [
    {
     "execution_count": 4,
     "output_type": "execute_result",
     "data": {
      "text/plain": "  PassengerId HomePlanet CryoSleep  Cabin    Destination   Age    VIP  \\\n0     0001_01     Europa     False  B/0/P    TRAPPIST-1e  39.0  False   \n1     0002_01      Earth     False  F/0/S    TRAPPIST-1e  24.0  False   \n2     0003_01     Europa     False  A/0/S    TRAPPIST-1e  58.0   True   \n3     0003_02     Europa     False  A/0/S    TRAPPIST-1e  33.0  False   \n4     0004_01      Earth     False  F/1/S    TRAPPIST-1e  16.0  False   \n5     0005_01      Earth     False  F/0/P  PSO J318.5-22  44.0  False   \n6     0006_01      Earth     False  F/2/S    TRAPPIST-1e  26.0  False   \n7     0006_02      Earth      True  G/0/S    TRAPPIST-1e  28.0  False   \n8     0007_01      Earth     False  F/3/S    TRAPPIST-1e  35.0  False   \n9     0008_01     Europa      True  B/1/P    55 Cancri e  14.0  False   \n\n   RoomService  FoodCourt  ShoppingMall     Spa  VRDeck                Name  \\\n0          0.0        0.0           0.0     0.0     0.0     Maham Ofracculy   \n1        109.0        9.0          25.0   549.0    44.0        Juanna Vines   \n2         43.0     3576.0           0.0  6715.0    49.0       Altark Susent   \n3          0.0     1283.0         371.0  3329.0   193.0        Solam Susent   \n4        303.0       70.0         151.0   565.0     2.0   Willy Santantines   \n5          0.0      483.0           0.0   291.0     0.0   Sandie Hinetthews   \n6         42.0     1539.0           3.0     0.0     0.0  Billex Jacostaffey   \n7          0.0        0.0           0.0     0.0     NaN  Candra Jacostaffey   \n8          0.0      785.0          17.0   216.0     0.0       Andona Beston   \n9          0.0        0.0           0.0     0.0     0.0      Erraiam Flatic   \n\n   Transported  \n0        False  \n1         True  \n2        False  \n3        False  \n4         True  \n5         True  \n6         True  \n7         True  \n8         True  \n9         True  ",
      "text/html": "<div>\n<style scoped>\n    .dataframe tbody tr th:only-of-type {\n        vertical-align: middle;\n    }\n\n    .dataframe tbody tr th {\n        vertical-align: top;\n    }\n\n    .dataframe thead th {\n        text-align: right;\n    }\n</style>\n<table border=\"1\" class=\"dataframe\">\n  <thead>\n    <tr style=\"text-align: right;\">\n      <th></th>\n      <th>PassengerId</th>\n      <th>HomePlanet</th>\n      <th>CryoSleep</th>\n      <th>Cabin</th>\n      <th>Destination</th>\n      <th>Age</th>\n      <th>VIP</th>\n      <th>RoomService</th>\n      <th>FoodCourt</th>\n      <th>ShoppingMall</th>\n      <th>Spa</th>\n      <th>VRDeck</th>\n      <th>Name</th>\n      <th>Transported</th>\n    </tr>\n  </thead>\n  <tbody>\n    <tr>\n      <th>0</th>\n      <td>0001_01</td>\n      <td>Europa</td>\n      <td>False</td>\n      <td>B/0/P</td>\n      <td>TRAPPIST-1e</td>\n      <td>39.0</td>\n      <td>False</td>\n      <td>0.0</td>\n      <td>0.0</td>\n      <td>0.0</td>\n      <td>0.0</td>\n      <td>0.0</td>\n      <td>Maham Ofracculy</td>\n      <td>False</td>\n    </tr>\n    <tr>\n      <th>1</th>\n      <td>0002_01</td>\n      <td>Earth</td>\n      <td>False</td>\n      <td>F/0/S</td>\n      <td>TRAPPIST-1e</td>\n      <td>24.0</td>\n      <td>False</td>\n      <td>109.0</td>\n      <td>9.0</td>\n      <td>25.0</td>\n      <td>549.0</td>\n      <td>44.0</td>\n      <td>Juanna Vines</td>\n      <td>True</td>\n    </tr>\n    <tr>\n      <th>2</th>\n      <td>0003_01</td>\n      <td>Europa</td>\n      <td>False</td>\n      <td>A/0/S</td>\n      <td>TRAPPIST-1e</td>\n      <td>58.0</td>\n      <td>True</td>\n      <td>43.0</td>\n      <td>3576.0</td>\n      <td>0.0</td>\n      <td>6715.0</td>\n      <td>49.0</td>\n      <td>Altark Susent</td>\n      <td>False</td>\n    </tr>\n    <tr>\n      <th>3</th>\n      <td>0003_02</td>\n      <td>Europa</td>\n      <td>False</td>\n      <td>A/0/S</td>\n      <td>TRAPPIST-1e</td>\n      <td>33.0</td>\n      <td>False</td>\n      <td>0.0</td>\n      <td>1283.0</td>\n      <td>371.0</td>\n      <td>3329.0</td>\n      <td>193.0</td>\n      <td>Solam Susent</td>\n      <td>False</td>\n    </tr>\n    <tr>\n      <th>4</th>\n      <td>0004_01</td>\n      <td>Earth</td>\n      <td>False</td>\n      <td>F/1/S</td>\n      <td>TRAPPIST-1e</td>\n      <td>16.0</td>\n      <td>False</td>\n      <td>303.0</td>\n      <td>70.0</td>\n      <td>151.0</td>\n      <td>565.0</td>\n      <td>2.0</td>\n      <td>Willy Santantines</td>\n      <td>True</td>\n    </tr>\n    <tr>\n      <th>5</th>\n      <td>0005_01</td>\n      <td>Earth</td>\n      <td>False</td>\n      <td>F/0/P</td>\n      <td>PSO J318.5-22</td>\n      <td>44.0</td>\n      <td>False</td>\n      <td>0.0</td>\n      <td>483.0</td>\n      <td>0.0</td>\n      <td>291.0</td>\n      <td>0.0</td>\n      <td>Sandie Hinetthews</td>\n      <td>True</td>\n    </tr>\n    <tr>\n      <th>6</th>\n      <td>0006_01</td>\n      <td>Earth</td>\n      <td>False</td>\n      <td>F/2/S</td>\n      <td>TRAPPIST-1e</td>\n      <td>26.0</td>\n      <td>False</td>\n      <td>42.0</td>\n      <td>1539.0</td>\n      <td>3.0</td>\n      <td>0.0</td>\n      <td>0.0</td>\n      <td>Billex Jacostaffey</td>\n      <td>True</td>\n    </tr>\n    <tr>\n      <th>7</th>\n      <td>0006_02</td>\n      <td>Earth</td>\n      <td>True</td>\n      <td>G/0/S</td>\n      <td>TRAPPIST-1e</td>\n      <td>28.0</td>\n      <td>False</td>\n      <td>0.0</td>\n      <td>0.0</td>\n      <td>0.0</td>\n      <td>0.0</td>\n      <td>NaN</td>\n      <td>Candra Jacostaffey</td>\n      <td>True</td>\n    </tr>\n    <tr>\n      <th>8</th>\n      <td>0007_01</td>\n      <td>Earth</td>\n      <td>False</td>\n      <td>F/3/S</td>\n      <td>TRAPPIST-1e</td>\n      <td>35.0</td>\n      <td>False</td>\n      <td>0.0</td>\n      <td>785.0</td>\n      <td>17.0</td>\n      <td>216.0</td>\n      <td>0.0</td>\n      <td>Andona Beston</td>\n      <td>True</td>\n    </tr>\n    <tr>\n      <th>9</th>\n      <td>0008_01</td>\n      <td>Europa</td>\n      <td>True</td>\n      <td>B/1/P</td>\n      <td>55 Cancri e</td>\n      <td>14.0</td>\n      <td>False</td>\n      <td>0.0</td>\n      <td>0.0</td>\n      <td>0.0</td>\n      <td>0.0</td>\n      <td>0.0</td>\n      <td>Erraiam Flatic</td>\n      <td>True</td>\n    </tr>\n  </tbody>\n</table>\n</div>"
     },
     "metadata": {}
    }
   ]
  },
  {
   "cell_type": "markdown",
   "source": [
    "CryoSleep|Cabin|FoodCourt|VRDeck\n",
    "-|-|-|-\n",
    "低温睡眠|小屋|美食广场（？）|VR甲板"
   ],
   "metadata": {
    "pycharm": {
     "name": "#%% md\n"
    }
   }
  },
  {
   "cell_type": "code",
   "source": [
    "test_set.head(3)"
   ],
   "metadata": {
    "execution": {
     "iopub.status.busy": "2024-04-02T01:24:27.497898Z",
     "iopub.execute_input": "2024-04-02T01:24:27.498206Z",
     "iopub.status.idle": "2024-04-02T01:24:27.514800Z",
     "shell.execute_reply.started": "2024-04-02T01:24:27.498179Z",
     "shell.execute_reply": "2024-04-02T01:24:27.513604Z"
    },
    "trusted": true,
    "pycharm": {
     "name": "#%%\n"
    }
   },
   "execution_count": 5,
   "outputs": [
    {
     "execution_count": 5,
     "output_type": "execute_result",
     "data": {
      "text/plain": "  PassengerId HomePlanet CryoSleep  Cabin  Destination   Age    VIP  \\\n0     0013_01      Earth      True  G/3/S  TRAPPIST-1e  27.0  False   \n1     0018_01      Earth     False  F/4/S  TRAPPIST-1e  19.0  False   \n2     0019_01     Europa      True  C/0/S  55 Cancri e  31.0  False   \n\n   RoomService  FoodCourt  ShoppingMall     Spa  VRDeck             Name  \n0          0.0        0.0           0.0     0.0     0.0  Nelly Carsoning  \n1          0.0        9.0           0.0  2823.0     0.0   Lerome Peckers  \n2          0.0        0.0           0.0     0.0     0.0  Sabih Unhearfus  ",
      "text/html": "<div>\n<style scoped>\n    .dataframe tbody tr th:only-of-type {\n        vertical-align: middle;\n    }\n\n    .dataframe tbody tr th {\n        vertical-align: top;\n    }\n\n    .dataframe thead th {\n        text-align: right;\n    }\n</style>\n<table border=\"1\" class=\"dataframe\">\n  <thead>\n    <tr style=\"text-align: right;\">\n      <th></th>\n      <th>PassengerId</th>\n      <th>HomePlanet</th>\n      <th>CryoSleep</th>\n      <th>Cabin</th>\n      <th>Destination</th>\n      <th>Age</th>\n      <th>VIP</th>\n      <th>RoomService</th>\n      <th>FoodCourt</th>\n      <th>ShoppingMall</th>\n      <th>Spa</th>\n      <th>VRDeck</th>\n      <th>Name</th>\n    </tr>\n  </thead>\n  <tbody>\n    <tr>\n      <th>0</th>\n      <td>0013_01</td>\n      <td>Earth</td>\n      <td>True</td>\n      <td>G/3/S</td>\n      <td>TRAPPIST-1e</td>\n      <td>27.0</td>\n      <td>False</td>\n      <td>0.0</td>\n      <td>0.0</td>\n      <td>0.0</td>\n      <td>0.0</td>\n      <td>0.0</td>\n      <td>Nelly Carsoning</td>\n    </tr>\n    <tr>\n      <th>1</th>\n      <td>0018_01</td>\n      <td>Earth</td>\n      <td>False</td>\n      <td>F/4/S</td>\n      <td>TRAPPIST-1e</td>\n      <td>19.0</td>\n      <td>False</td>\n      <td>0.0</td>\n      <td>9.0</td>\n      <td>0.0</td>\n      <td>2823.0</td>\n      <td>0.0</td>\n      <td>Lerome Peckers</td>\n    </tr>\n    <tr>\n      <th>2</th>\n      <td>0019_01</td>\n      <td>Europa</td>\n      <td>True</td>\n      <td>C/0/S</td>\n      <td>55 Cancri e</td>\n      <td>31.0</td>\n      <td>False</td>\n      <td>0.0</td>\n      <td>0.0</td>\n      <td>0.0</td>\n      <td>0.0</td>\n      <td>0.0</td>\n      <td>Sabih Unhearfus</td>\n    </tr>\n  </tbody>\n</table>\n</div>"
     },
     "metadata": {}
    }
   ]
  },
  {
   "cell_type": "code",
   "source": [
    "sample = pd.read_csv(\"/kaggle/input/spaceship-titanic/sample_submission.csv\")\n",
    "sample.head(5)"
   ],
   "metadata": {
    "execution": {
     "iopub.status.busy": "2024-04-02T01:24:27.516270Z",
     "iopub.execute_input": "2024-04-02T01:24:27.516661Z",
     "iopub.status.idle": "2024-04-02T01:24:27.542966Z",
     "shell.execute_reply.started": "2024-04-02T01:24:27.516626Z",
     "shell.execute_reply": "2024-04-02T01:24:27.542212Z"
    },
    "trusted": true,
    "pycharm": {
     "name": "#%%\n"
    }
   },
   "execution_count": 6,
   "outputs": [
    {
     "execution_count": 6,
     "output_type": "execute_result",
     "data": {
      "text/plain": "  PassengerId  Transported\n0     0013_01        False\n1     0018_01        False\n2     0019_01        False\n3     0021_01        False\n4     0023_01        False",
      "text/html": "<div>\n<style scoped>\n    .dataframe tbody tr th:only-of-type {\n        vertical-align: middle;\n    }\n\n    .dataframe tbody tr th {\n        vertical-align: top;\n    }\n\n    .dataframe thead th {\n        text-align: right;\n    }\n</style>\n<table border=\"1\" class=\"dataframe\">\n  <thead>\n    <tr style=\"text-align: right;\">\n      <th></th>\n      <th>PassengerId</th>\n      <th>Transported</th>\n    </tr>\n  </thead>\n  <tbody>\n    <tr>\n      <th>0</th>\n      <td>0013_01</td>\n      <td>False</td>\n    </tr>\n    <tr>\n      <th>1</th>\n      <td>0018_01</td>\n      <td>False</td>\n    </tr>\n    <tr>\n      <th>2</th>\n      <td>0019_01</td>\n      <td>False</td>\n    </tr>\n    <tr>\n      <th>3</th>\n      <td>0021_01</td>\n      <td>False</td>\n    </tr>\n    <tr>\n      <th>4</th>\n      <td>0023_01</td>\n      <td>False</td>\n    </tr>\n  </tbody>\n</table>\n</div>"
     },
     "metadata": {}
    }
   ]
  },
  {
   "cell_type": "code",
   "source": [
    "train_set.info()"
   ],
   "metadata": {
    "execution": {
     "iopub.status.busy": "2024-04-02T01:24:27.544684Z",
     "iopub.execute_input": "2024-04-02T01:24:27.545170Z",
     "iopub.status.idle": "2024-04-02T01:24:27.576047Z",
     "shell.execute_reply.started": "2024-04-02T01:24:27.545134Z",
     "shell.execute_reply": "2024-04-02T01:24:27.574914Z"
    },
    "trusted": true,
    "pycharm": {
     "name": "#%%\n"
    }
   },
   "execution_count": 7,
   "outputs": [
    {
     "name": "stdout",
     "text": "<class 'pandas.core.frame.DataFrame'>\nRangeIndex: 8693 entries, 0 to 8692\nData columns (total 14 columns):\n #   Column        Non-Null Count  Dtype  \n---  ------        --------------  -----  \n 0   PassengerId   8693 non-null   object \n 1   HomePlanet    8492 non-null   object \n 2   CryoSleep     8476 non-null   object \n 3   Cabin         8494 non-null   object \n 4   Destination   8511 non-null   object \n 5   Age           8514 non-null   float64\n 6   VIP           8490 non-null   object \n 7   RoomService   8512 non-null   float64\n 8   FoodCourt     8510 non-null   float64\n 9   ShoppingMall  8485 non-null   float64\n 10  Spa           8510 non-null   float64\n 11  VRDeck        8505 non-null   float64\n 12  Name          8493 non-null   object \n 13  Transported   8693 non-null   bool   \ndtypes: bool(1), float64(6), object(7)\nmemory usage: 891.5+ KB\n",
     "output_type": "stream"
    }
   ]
  },
  {
   "cell_type": "code",
   "source": [
    "#查看统计信息\n",
    "train_set.describe()\n",
    "# count:非空值总数  mean:非空值的平均值"
   ],
   "metadata": {
    "execution": {
     "iopub.status.busy": "2024-04-02T01:24:27.577547Z",
     "iopub.execute_input": "2024-04-02T01:24:27.578220Z",
     "iopub.status.idle": "2024-04-02T01:24:27.606916Z",
     "shell.execute_reply.started": "2024-04-02T01:24:27.578182Z",
     "shell.execute_reply": "2024-04-02T01:24:27.606168Z"
    },
    "trusted": true,
    "pycharm": {
     "name": "#%%\n"
    }
   },
   "execution_count": 8,
   "outputs": [
    {
     "execution_count": 8,
     "output_type": "execute_result",
     "data": {
      "text/plain": "               Age   RoomService     FoodCourt  ShoppingMall           Spa  \\\ncount  8514.000000   8512.000000   8510.000000   8485.000000   8510.000000   \nmean     28.827930    224.687617    458.077203    173.729169    311.138778   \nstd      14.489021    666.717663   1611.489240    604.696458   1136.705535   \nmin       0.000000      0.000000      0.000000      0.000000      0.000000   \n25%      19.000000      0.000000      0.000000      0.000000      0.000000   \n50%      27.000000      0.000000      0.000000      0.000000      0.000000   \n75%      38.000000     47.000000     76.000000     27.000000     59.000000   \nmax      79.000000  14327.000000  29813.000000  23492.000000  22408.000000   \n\n             VRDeck  \ncount   8505.000000  \nmean     304.854791  \nstd     1145.717189  \nmin        0.000000  \n25%        0.000000  \n50%        0.000000  \n75%       46.000000  \nmax    24133.000000  ",
      "text/html": "<div>\n<style scoped>\n    .dataframe tbody tr th:only-of-type {\n        vertical-align: middle;\n    }\n\n    .dataframe tbody tr th {\n        vertical-align: top;\n    }\n\n    .dataframe thead th {\n        text-align: right;\n    }\n</style>\n<table border=\"1\" class=\"dataframe\">\n  <thead>\n    <tr style=\"text-align: right;\">\n      <th></th>\n      <th>Age</th>\n      <th>RoomService</th>\n      <th>FoodCourt</th>\n      <th>ShoppingMall</th>\n      <th>Spa</th>\n      <th>VRDeck</th>\n    </tr>\n  </thead>\n  <tbody>\n    <tr>\n      <th>count</th>\n      <td>8514.000000</td>\n      <td>8512.000000</td>\n      <td>8510.000000</td>\n      <td>8485.000000</td>\n      <td>8510.000000</td>\n      <td>8505.000000</td>\n    </tr>\n    <tr>\n      <th>mean</th>\n      <td>28.827930</td>\n      <td>224.687617</td>\n      <td>458.077203</td>\n      <td>173.729169</td>\n      <td>311.138778</td>\n      <td>304.854791</td>\n    </tr>\n    <tr>\n      <th>std</th>\n      <td>14.489021</td>\n      <td>666.717663</td>\n      <td>1611.489240</td>\n      <td>604.696458</td>\n      <td>1136.705535</td>\n      <td>1145.717189</td>\n    </tr>\n    <tr>\n      <th>min</th>\n      <td>0.000000</td>\n      <td>0.000000</td>\n      <td>0.000000</td>\n      <td>0.000000</td>\n      <td>0.000000</td>\n      <td>0.000000</td>\n    </tr>\n    <tr>\n      <th>25%</th>\n      <td>19.000000</td>\n      <td>0.000000</td>\n      <td>0.000000</td>\n      <td>0.000000</td>\n      <td>0.000000</td>\n      <td>0.000000</td>\n    </tr>\n    <tr>\n      <th>50%</th>\n      <td>27.000000</td>\n      <td>0.000000</td>\n      <td>0.000000</td>\n      <td>0.000000</td>\n      <td>0.000000</td>\n      <td>0.000000</td>\n    </tr>\n    <tr>\n      <th>75%</th>\n      <td>38.000000</td>\n      <td>47.000000</td>\n      <td>76.000000</td>\n      <td>27.000000</td>\n      <td>59.000000</td>\n      <td>46.000000</td>\n    </tr>\n    <tr>\n      <th>max</th>\n      <td>79.000000</td>\n      <td>14327.000000</td>\n      <td>29813.000000</td>\n      <td>23492.000000</td>\n      <td>22408.000000</td>\n      <td>24133.000000</td>\n    </tr>\n  </tbody>\n</table>\n</div>"
     },
     "metadata": {}
    }
   ]
  },
  {
   "cell_type": "code",
   "source": [
    "print(train_set.info())"
   ],
   "metadata": {
    "execution": {
     "iopub.status.busy": "2024-04-02T01:24:27.608125Z",
     "iopub.execute_input": "2024-04-02T01:24:27.608598Z",
     "iopub.status.idle": "2024-04-02T01:24:27.621859Z",
     "shell.execute_reply.started": "2024-04-02T01:24:27.608571Z",
     "shell.execute_reply": "2024-04-02T01:24:27.620773Z"
    },
    "trusted": true,
    "pycharm": {
     "name": "#%%\n"
    }
   },
   "execution_count": 9,
   "outputs": [
    {
     "name": "stdout",
     "text": "<class 'pandas.core.frame.DataFrame'>\nRangeIndex: 8693 entries, 0 to 8692\nData columns (total 14 columns):\n #   Column        Non-Null Count  Dtype  \n---  ------        --------------  -----  \n 0   PassengerId   8693 non-null   object \n 1   HomePlanet    8492 non-null   object \n 2   CryoSleep     8476 non-null   object \n 3   Cabin         8494 non-null   object \n 4   Destination   8511 non-null   object \n 5   Age           8514 non-null   float64\n 6   VIP           8490 non-null   object \n 7   RoomService   8512 non-null   float64\n 8   FoodCourt     8510 non-null   float64\n 9   ShoppingMall  8485 non-null   float64\n 10  Spa           8510 non-null   float64\n 11  VRDeck        8505 non-null   float64\n 12  Name          8493 non-null   object \n 13  Transported   8693 non-null   bool   \ndtypes: bool(1), float64(6), object(7)\nmemory usage: 891.5+ KB\nNone\n",
     "output_type": "stream"
    }
   ]
  },
  {
   "cell_type": "markdown",
   "source": [
    "基本上都有缺失值：\n",
    "* 考虑将年龄用均值填充\n",
    "* RoomService、FoodCourt、ShoppingMall、Spa、VRDec一半以上都为0，所以全部缺失值设为0\n"
   ],
   "metadata": {
    "pycharm": {
     "name": "#%% md\n"
    }
   }
  },
  {
   "cell_type": "markdown",
   "source": [
    "## 二、数据预处理\n",
    "包括：\n",
    "* 去掉name字段\n",
    "* CryoSleep  VIP  HomePlanet 用one-hot编码\n",
    "* 填充缺失值"
   ],
   "metadata": {
    "pycharm": {
     "name": "#%% md\n"
    }
   }
  },
  {
   "cell_type": "code",
   "source": [
    "train_set.keys()"
   ],
   "metadata": {
    "execution": {
     "iopub.status.busy": "2024-04-02T01:24:27.623378Z",
     "iopub.execute_input": "2024-04-02T01:24:27.623688Z",
     "iopub.status.idle": "2024-04-02T01:24:27.630884Z",
     "shell.execute_reply.started": "2024-04-02T01:24:27.623661Z",
     "shell.execute_reply": "2024-04-02T01:24:27.629844Z"
    },
    "trusted": true,
    "pycharm": {
     "name": "#%%\n"
    }
   },
   "execution_count": 10,
   "outputs": [
    {
     "execution_count": 10,
     "output_type": "execute_result",
     "data": {
      "text/plain": "Index(['PassengerId', 'HomePlanet', 'CryoSleep', 'Cabin', 'Destination', 'Age',\n       'VIP', 'RoomService', 'FoodCourt', 'ShoppingMall', 'Spa', 'VRDeck',\n       'Name', 'Transported'],\n      dtype='object')"
     },
     "metadata": {}
    }
   ]
  },
  {
   "cell_type": "markdown",
   "source": [
    "### **年龄**"
   ],
   "metadata": {
    "pycharm": {
     "name": "#%% md\n"
    }
   }
  },
  {
   "cell_type": "code",
   "source": [
    "train_set['Age'] = train_set['Age'].fillna(train_set['Age'].median())"
   ],
   "metadata": {
    "execution": {
     "iopub.status.busy": "2024-04-02T01:24:27.636003Z",
     "iopub.execute_input": "2024-04-02T01:24:27.636343Z",
     "iopub.status.idle": "2024-04-02T01:24:27.642838Z",
     "shell.execute_reply.started": "2024-04-02T01:24:27.636317Z",
     "shell.execute_reply": "2024-04-02T01:24:27.641787Z"
    },
    "trusted": true,
    "pycharm": {
     "name": "#%%\n"
    }
   },
   "execution_count": 11,
   "outputs": []
  },
  {
   "cell_type": "code",
   "source": [
    "test_set['Age'] = test_set['Age'].fillna(test_set['Age'].median())"
   ],
   "metadata": {
    "execution": {
     "iopub.status.busy": "2024-04-02T01:24:27.644122Z",
     "iopub.execute_input": "2024-04-02T01:24:27.644409Z",
     "iopub.status.idle": "2024-04-02T01:24:27.652133Z",
     "shell.execute_reply.started": "2024-04-02T01:24:27.644384Z",
     "shell.execute_reply": "2024-04-02T01:24:27.651165Z"
    },
    "trusted": true,
    "pycharm": {
     "name": "#%%\n"
    }
   },
   "execution_count": 12,
   "outputs": []
  },
  {
   "cell_type": "markdown",
   "source": [
    "### **VIP and CryoSleep and Transported(train set)**\n",
    "\n",
    "**被骗了，好像True和False直接找不出来的，直接等于0和1了**\n",
    "\n",
    "debug了半小时  想鼠"
   ],
   "metadata": {
    "pycharm": {
     "name": "#%% md\n"
    }
   }
  },
  {
   "cell_type": "code",
   "source": [
    "# 但是以防万一还是显示改一下\n",
    "train_set.loc[train_set['VIP'] == 1, 'VIP'] = 1\n",
    "train_set.loc[train_set['VIP'] == 0, 'VIP'] = 0\n",
    "\n",
    "train_set.loc[train_set['CryoSleep'] == 1, 'CryoSleep'] = 1\n",
    "train_set.loc[train_set['CryoSleep'] == 0, 'CryoSleep'] = 0\n",
    "\n",
    "train_set.loc[train_set['Transported'] == 1, 'Transported'] = 1\n",
    "train_set.loc[train_set['Transported'] == 0, 'Transported'] = 0"
   ],
   "metadata": {
    "execution": {
     "iopub.status.busy": "2024-04-02T01:24:27.653188Z",
     "iopub.execute_input": "2024-04-02T01:24:27.653477Z",
     "iopub.status.idle": "2024-04-02T01:24:27.672087Z",
     "shell.execute_reply.started": "2024-04-02T01:24:27.653454Z",
     "shell.execute_reply": "2024-04-02T01:24:27.670935Z"
    },
    "trusted": true,
    "pycharm": {
     "name": "#%%\n"
    }
   },
   "execution_count": 13,
   "outputs": [
    {
     "name": "stderr",
     "text": "/tmp/ipykernel_33/1535746703.py:8: FutureWarning: Setting an item of incompatible dtype is deprecated and will raise an error in a future version of pandas. Value '1' has dtype incompatible with bool, please explicitly cast to a compatible dtype first.\n  train_set.loc[train_set['Transported'] == 1, 'Transported'] = 1\n",
     "output_type": "stream"
    }
   ]
  },
  {
   "cell_type": "code",
   "source": [
    "train_set.head(10)"
   ],
   "metadata": {
    "execution": {
     "iopub.status.busy": "2024-04-02T01:24:27.672966Z",
     "iopub.execute_input": "2024-04-02T01:24:27.673593Z",
     "iopub.status.idle": "2024-04-02T01:24:27.695541Z",
     "shell.execute_reply.started": "2024-04-02T01:24:27.673562Z",
     "shell.execute_reply": "2024-04-02T01:24:27.694791Z"
    },
    "trusted": true,
    "pycharm": {
     "name": "#%%\n"
    }
   },
   "execution_count": 14,
   "outputs": [
    {
     "execution_count": 14,
     "output_type": "execute_result",
     "data": {
      "text/plain": "  PassengerId HomePlanet CryoSleep  Cabin    Destination   Age VIP  \\\n0     0001_01     Europa         0  B/0/P    TRAPPIST-1e  39.0   0   \n1     0002_01      Earth         0  F/0/S    TRAPPIST-1e  24.0   0   \n2     0003_01     Europa         0  A/0/S    TRAPPIST-1e  58.0   1   \n3     0003_02     Europa         0  A/0/S    TRAPPIST-1e  33.0   0   \n4     0004_01      Earth         0  F/1/S    TRAPPIST-1e  16.0   0   \n5     0005_01      Earth         0  F/0/P  PSO J318.5-22  44.0   0   \n6     0006_01      Earth         0  F/2/S    TRAPPIST-1e  26.0   0   \n7     0006_02      Earth         1  G/0/S    TRAPPIST-1e  28.0   0   \n8     0007_01      Earth         0  F/3/S    TRAPPIST-1e  35.0   0   \n9     0008_01     Europa         1  B/1/P    55 Cancri e  14.0   0   \n\n   RoomService  FoodCourt  ShoppingMall     Spa  VRDeck                Name  \\\n0          0.0        0.0           0.0     0.0     0.0     Maham Ofracculy   \n1        109.0        9.0          25.0   549.0    44.0        Juanna Vines   \n2         43.0     3576.0           0.0  6715.0    49.0       Altark Susent   \n3          0.0     1283.0         371.0  3329.0   193.0        Solam Susent   \n4        303.0       70.0         151.0   565.0     2.0   Willy Santantines   \n5          0.0      483.0           0.0   291.0     0.0   Sandie Hinetthews   \n6         42.0     1539.0           3.0     0.0     0.0  Billex Jacostaffey   \n7          0.0        0.0           0.0     0.0     NaN  Candra Jacostaffey   \n8          0.0      785.0          17.0   216.0     0.0       Andona Beston   \n9          0.0        0.0           0.0     0.0     0.0      Erraiam Flatic   \n\n  Transported  \n0           0  \n1           1  \n2           0  \n3           0  \n4           1  \n5           1  \n6           1  \n7           1  \n8           1  \n9           1  ",
      "text/html": "<div>\n<style scoped>\n    .dataframe tbody tr th:only-of-type {\n        vertical-align: middle;\n    }\n\n    .dataframe tbody tr th {\n        vertical-align: top;\n    }\n\n    .dataframe thead th {\n        text-align: right;\n    }\n</style>\n<table border=\"1\" class=\"dataframe\">\n  <thead>\n    <tr style=\"text-align: right;\">\n      <th></th>\n      <th>PassengerId</th>\n      <th>HomePlanet</th>\n      <th>CryoSleep</th>\n      <th>Cabin</th>\n      <th>Destination</th>\n      <th>Age</th>\n      <th>VIP</th>\n      <th>RoomService</th>\n      <th>FoodCourt</th>\n      <th>ShoppingMall</th>\n      <th>Spa</th>\n      <th>VRDeck</th>\n      <th>Name</th>\n      <th>Transported</th>\n    </tr>\n  </thead>\n  <tbody>\n    <tr>\n      <th>0</th>\n      <td>0001_01</td>\n      <td>Europa</td>\n      <td>0</td>\n      <td>B/0/P</td>\n      <td>TRAPPIST-1e</td>\n      <td>39.0</td>\n      <td>0</td>\n      <td>0.0</td>\n      <td>0.0</td>\n      <td>0.0</td>\n      <td>0.0</td>\n      <td>0.0</td>\n      <td>Maham Ofracculy</td>\n      <td>0</td>\n    </tr>\n    <tr>\n      <th>1</th>\n      <td>0002_01</td>\n      <td>Earth</td>\n      <td>0</td>\n      <td>F/0/S</td>\n      <td>TRAPPIST-1e</td>\n      <td>24.0</td>\n      <td>0</td>\n      <td>109.0</td>\n      <td>9.0</td>\n      <td>25.0</td>\n      <td>549.0</td>\n      <td>44.0</td>\n      <td>Juanna Vines</td>\n      <td>1</td>\n    </tr>\n    <tr>\n      <th>2</th>\n      <td>0003_01</td>\n      <td>Europa</td>\n      <td>0</td>\n      <td>A/0/S</td>\n      <td>TRAPPIST-1e</td>\n      <td>58.0</td>\n      <td>1</td>\n      <td>43.0</td>\n      <td>3576.0</td>\n      <td>0.0</td>\n      <td>6715.0</td>\n      <td>49.0</td>\n      <td>Altark Susent</td>\n      <td>0</td>\n    </tr>\n    <tr>\n      <th>3</th>\n      <td>0003_02</td>\n      <td>Europa</td>\n      <td>0</td>\n      <td>A/0/S</td>\n      <td>TRAPPIST-1e</td>\n      <td>33.0</td>\n      <td>0</td>\n      <td>0.0</td>\n      <td>1283.0</td>\n      <td>371.0</td>\n      <td>3329.0</td>\n      <td>193.0</td>\n      <td>Solam Susent</td>\n      <td>0</td>\n    </tr>\n    <tr>\n      <th>4</th>\n      <td>0004_01</td>\n      <td>Earth</td>\n      <td>0</td>\n      <td>F/1/S</td>\n      <td>TRAPPIST-1e</td>\n      <td>16.0</td>\n      <td>0</td>\n      <td>303.0</td>\n      <td>70.0</td>\n      <td>151.0</td>\n      <td>565.0</td>\n      <td>2.0</td>\n      <td>Willy Santantines</td>\n      <td>1</td>\n    </tr>\n    <tr>\n      <th>5</th>\n      <td>0005_01</td>\n      <td>Earth</td>\n      <td>0</td>\n      <td>F/0/P</td>\n      <td>PSO J318.5-22</td>\n      <td>44.0</td>\n      <td>0</td>\n      <td>0.0</td>\n      <td>483.0</td>\n      <td>0.0</td>\n      <td>291.0</td>\n      <td>0.0</td>\n      <td>Sandie Hinetthews</td>\n      <td>1</td>\n    </tr>\n    <tr>\n      <th>6</th>\n      <td>0006_01</td>\n      <td>Earth</td>\n      <td>0</td>\n      <td>F/2/S</td>\n      <td>TRAPPIST-1e</td>\n      <td>26.0</td>\n      <td>0</td>\n      <td>42.0</td>\n      <td>1539.0</td>\n      <td>3.0</td>\n      <td>0.0</td>\n      <td>0.0</td>\n      <td>Billex Jacostaffey</td>\n      <td>1</td>\n    </tr>\n    <tr>\n      <th>7</th>\n      <td>0006_02</td>\n      <td>Earth</td>\n      <td>1</td>\n      <td>G/0/S</td>\n      <td>TRAPPIST-1e</td>\n      <td>28.0</td>\n      <td>0</td>\n      <td>0.0</td>\n      <td>0.0</td>\n      <td>0.0</td>\n      <td>0.0</td>\n      <td>NaN</td>\n      <td>Candra Jacostaffey</td>\n      <td>1</td>\n    </tr>\n    <tr>\n      <th>8</th>\n      <td>0007_01</td>\n      <td>Earth</td>\n      <td>0</td>\n      <td>F/3/S</td>\n      <td>TRAPPIST-1e</td>\n      <td>35.0</td>\n      <td>0</td>\n      <td>0.0</td>\n      <td>785.0</td>\n      <td>17.0</td>\n      <td>216.0</td>\n      <td>0.0</td>\n      <td>Andona Beston</td>\n      <td>1</td>\n    </tr>\n    <tr>\n      <th>9</th>\n      <td>0008_01</td>\n      <td>Europa</td>\n      <td>1</td>\n      <td>B/1/P</td>\n      <td>55 Cancri e</td>\n      <td>14.0</td>\n      <td>0</td>\n      <td>0.0</td>\n      <td>0.0</td>\n      <td>0.0</td>\n      <td>0.0</td>\n      <td>0.0</td>\n      <td>Erraiam Flatic</td>\n      <td>1</td>\n    </tr>\n  </tbody>\n</table>\n</div>"
     },
     "metadata": {}
    }
   ]
  },
  {
   "cell_type": "code",
   "source": [
    "# 测试集也一样\n",
    "test_set.loc[train_set['VIP'] == 1, 'VIP'] = 1\n",
    "test_set.loc[train_set['VIP'] == 0, 'VIP'] = 0\n",
    "\n",
    "test_set.loc[train_set['CryoSleep'] == 1, 'CryoSleep'] = 1\n",
    "test_set.loc[train_set['CryoSleep'] == 0, 'CryoSleep'] = 0\n",
    "\n",
    "test_set.head(10)"
   ],
   "metadata": {
    "execution": {
     "iopub.status.busy": "2024-04-02T01:24:27.696774Z",
     "iopub.execute_input": "2024-04-02T01:24:27.697246Z",
     "iopub.status.idle": "2024-04-02T01:24:27.731646Z",
     "shell.execute_reply.started": "2024-04-02T01:24:27.697219Z",
     "shell.execute_reply": "2024-04-02T01:24:27.730295Z"
    },
    "trusted": true,
    "pycharm": {
     "name": "#%%\n"
    }
   },
   "execution_count": 15,
   "outputs": [
    {
     "execution_count": 15,
     "output_type": "execute_result",
     "data": {
      "text/plain": "  PassengerId HomePlanet CryoSleep  Cabin  Destination   Age VIP  RoomService  \\\n0     0013_01      Earth         0  G/3/S  TRAPPIST-1e  27.0   0          0.0   \n1     0018_01      Earth         0  F/4/S  TRAPPIST-1e  19.0   0          0.0   \n2     0019_01     Europa         0  C/0/S  55 Cancri e  31.0   1          0.0   \n3     0021_01     Europa         0  C/1/S  TRAPPIST-1e  38.0   0          0.0   \n4     0023_01      Earth         0  F/5/S  TRAPPIST-1e  20.0   0         10.0   \n5     0027_01      Earth         0  F/7/P  TRAPPIST-1e  31.0   0          0.0   \n6     0029_01     Europa         0  B/2/P  55 Cancri e  21.0   0          0.0   \n7     0032_01     Europa         1  D/0/S  TRAPPIST-1e  20.0   0          0.0   \n8     0032_02     Europa         0  D/0/S  55 Cancri e  23.0   0          0.0   \n9     0033_01      Earth         1  F/7/S  55 Cancri e  24.0   0          0.0   \n\n   FoodCourt  ShoppingMall     Spa  VRDeck               Name  \n0        0.0           0.0     0.0     0.0    Nelly Carsoning  \n1        9.0           0.0  2823.0     0.0     Lerome Peckers  \n2        0.0           0.0     0.0     0.0    Sabih Unhearfus  \n3     6652.0           0.0   181.0   585.0   Meratz Caltilter  \n4        0.0         635.0     0.0     0.0    Brence Harperez  \n5     1615.0         263.0   113.0    60.0       Karlen Ricks  \n6        NaN           0.0     0.0     0.0    Aldah Ainserfle  \n7        0.0           0.0     0.0     0.0     Acrabi Pringry  \n8        0.0           0.0     0.0     0.0      Dhena Pringry  \n9      639.0           0.0     0.0     0.0  Eliana Delazarson  ",
      "text/html": "<div>\n<style scoped>\n    .dataframe tbody tr th:only-of-type {\n        vertical-align: middle;\n    }\n\n    .dataframe tbody tr th {\n        vertical-align: top;\n    }\n\n    .dataframe thead th {\n        text-align: right;\n    }\n</style>\n<table border=\"1\" class=\"dataframe\">\n  <thead>\n    <tr style=\"text-align: right;\">\n      <th></th>\n      <th>PassengerId</th>\n      <th>HomePlanet</th>\n      <th>CryoSleep</th>\n      <th>Cabin</th>\n      <th>Destination</th>\n      <th>Age</th>\n      <th>VIP</th>\n      <th>RoomService</th>\n      <th>FoodCourt</th>\n      <th>ShoppingMall</th>\n      <th>Spa</th>\n      <th>VRDeck</th>\n      <th>Name</th>\n    </tr>\n  </thead>\n  <tbody>\n    <tr>\n      <th>0</th>\n      <td>0013_01</td>\n      <td>Earth</td>\n      <td>0</td>\n      <td>G/3/S</td>\n      <td>TRAPPIST-1e</td>\n      <td>27.0</td>\n      <td>0</td>\n      <td>0.0</td>\n      <td>0.0</td>\n      <td>0.0</td>\n      <td>0.0</td>\n      <td>0.0</td>\n      <td>Nelly Carsoning</td>\n    </tr>\n    <tr>\n      <th>1</th>\n      <td>0018_01</td>\n      <td>Earth</td>\n      <td>0</td>\n      <td>F/4/S</td>\n      <td>TRAPPIST-1e</td>\n      <td>19.0</td>\n      <td>0</td>\n      <td>0.0</td>\n      <td>9.0</td>\n      <td>0.0</td>\n      <td>2823.0</td>\n      <td>0.0</td>\n      <td>Lerome Peckers</td>\n    </tr>\n    <tr>\n      <th>2</th>\n      <td>0019_01</td>\n      <td>Europa</td>\n      <td>0</td>\n      <td>C/0/S</td>\n      <td>55 Cancri e</td>\n      <td>31.0</td>\n      <td>1</td>\n      <td>0.0</td>\n      <td>0.0</td>\n      <td>0.0</td>\n      <td>0.0</td>\n      <td>0.0</td>\n      <td>Sabih Unhearfus</td>\n    </tr>\n    <tr>\n      <th>3</th>\n      <td>0021_01</td>\n      <td>Europa</td>\n      <td>0</td>\n      <td>C/1/S</td>\n      <td>TRAPPIST-1e</td>\n      <td>38.0</td>\n      <td>0</td>\n      <td>0.0</td>\n      <td>6652.0</td>\n      <td>0.0</td>\n      <td>181.0</td>\n      <td>585.0</td>\n      <td>Meratz Caltilter</td>\n    </tr>\n    <tr>\n      <th>4</th>\n      <td>0023_01</td>\n      <td>Earth</td>\n      <td>0</td>\n      <td>F/5/S</td>\n      <td>TRAPPIST-1e</td>\n      <td>20.0</td>\n      <td>0</td>\n      <td>10.0</td>\n      <td>0.0</td>\n      <td>635.0</td>\n      <td>0.0</td>\n      <td>0.0</td>\n      <td>Brence Harperez</td>\n    </tr>\n    <tr>\n      <th>5</th>\n      <td>0027_01</td>\n      <td>Earth</td>\n      <td>0</td>\n      <td>F/7/P</td>\n      <td>TRAPPIST-1e</td>\n      <td>31.0</td>\n      <td>0</td>\n      <td>0.0</td>\n      <td>1615.0</td>\n      <td>263.0</td>\n      <td>113.0</td>\n      <td>60.0</td>\n      <td>Karlen Ricks</td>\n    </tr>\n    <tr>\n      <th>6</th>\n      <td>0029_01</td>\n      <td>Europa</td>\n      <td>0</td>\n      <td>B/2/P</td>\n      <td>55 Cancri e</td>\n      <td>21.0</td>\n      <td>0</td>\n      <td>0.0</td>\n      <td>NaN</td>\n      <td>0.0</td>\n      <td>0.0</td>\n      <td>0.0</td>\n      <td>Aldah Ainserfle</td>\n    </tr>\n    <tr>\n      <th>7</th>\n      <td>0032_01</td>\n      <td>Europa</td>\n      <td>1</td>\n      <td>D/0/S</td>\n      <td>TRAPPIST-1e</td>\n      <td>20.0</td>\n      <td>0</td>\n      <td>0.0</td>\n      <td>0.0</td>\n      <td>0.0</td>\n      <td>0.0</td>\n      <td>0.0</td>\n      <td>Acrabi Pringry</td>\n    </tr>\n    <tr>\n      <th>8</th>\n      <td>0032_02</td>\n      <td>Europa</td>\n      <td>0</td>\n      <td>D/0/S</td>\n      <td>55 Cancri e</td>\n      <td>23.0</td>\n      <td>0</td>\n      <td>0.0</td>\n      <td>0.0</td>\n      <td>0.0</td>\n      <td>0.0</td>\n      <td>0.0</td>\n      <td>Dhena Pringry</td>\n    </tr>\n    <tr>\n      <th>9</th>\n      <td>0033_01</td>\n      <td>Earth</td>\n      <td>1</td>\n      <td>F/7/S</td>\n      <td>55 Cancri e</td>\n      <td>24.0</td>\n      <td>0</td>\n      <td>0.0</td>\n      <td>639.0</td>\n      <td>0.0</td>\n      <td>0.0</td>\n      <td>0.0</td>\n      <td>Eliana Delazarson</td>\n    </tr>\n  </tbody>\n</table>\n</div>"
     },
     "metadata": {}
    }
   ]
  },
  {
   "cell_type": "code",
   "source": [
    "#查看统计信息\n",
    "# train_set.describe()\n",
    "train_set.info()"
   ],
   "metadata": {
    "execution": {
     "iopub.status.busy": "2024-04-02T01:24:27.733105Z",
     "iopub.execute_input": "2024-04-02T01:24:27.733680Z",
     "iopub.status.idle": "2024-04-02T01:24:27.753154Z",
     "shell.execute_reply.started": "2024-04-02T01:24:27.733643Z",
     "shell.execute_reply": "2024-04-02T01:24:27.752005Z"
    },
    "trusted": true,
    "pycharm": {
     "name": "#%%\n"
    }
   },
   "execution_count": 16,
   "outputs": [
    {
     "name": "stdout",
     "text": "<class 'pandas.core.frame.DataFrame'>\nRangeIndex: 8693 entries, 0 to 8692\nData columns (total 14 columns):\n #   Column        Non-Null Count  Dtype  \n---  ------        --------------  -----  \n 0   PassengerId   8693 non-null   object \n 1   HomePlanet    8492 non-null   object \n 2   CryoSleep     8476 non-null   object \n 3   Cabin         8494 non-null   object \n 4   Destination   8511 non-null   object \n 5   Age           8693 non-null   float64\n 6   VIP           8490 non-null   object \n 7   RoomService   8512 non-null   float64\n 8   FoodCourt     8510 non-null   float64\n 9   ShoppingMall  8485 non-null   float64\n 10  Spa           8510 non-null   float64\n 11  VRDeck        8505 non-null   float64\n 12  Name          8493 non-null   object \n 13  Transported   8693 non-null   object \ndtypes: float64(6), object(8)\nmemory usage: 950.9+ KB\n",
     "output_type": "stream"
    }
   ]
  },
  {
   "cell_type": "code",
   "source": [
    "# 填充\n",
    "train_set['VIP'] = train_set['VIP'].fillna(0)\n",
    "test_set['VIP'] = test_set['VIP'].fillna(0)\n",
    "\n",
    "train_set['CryoSleep'] = train_set['CryoSleep'].fillna(0)\n",
    "test_set['CryoSleep'] = test_set['CryoSleep'].fillna(0)"
   ],
   "metadata": {
    "execution": {
     "iopub.status.busy": "2024-04-02T01:24:27.756478Z",
     "iopub.execute_input": "2024-04-02T01:24:27.756810Z",
     "iopub.status.idle": "2024-04-02T01:24:27.776098Z",
     "shell.execute_reply.started": "2024-04-02T01:24:27.756781Z",
     "shell.execute_reply": "2024-04-02T01:24:27.774807Z"
    },
    "trusted": true,
    "pycharm": {
     "name": "#%%\n"
    }
   },
   "execution_count": 17,
   "outputs": [
    {
     "name": "stderr",
     "text": "/tmp/ipykernel_33/3560625083.py:2: FutureWarning: Downcasting object dtype arrays on .fillna, .ffill, .bfill is deprecated and will change in a future version. Call result.infer_objects(copy=False) instead. To opt-in to the future behavior, set `pd.set_option('future.no_silent_downcasting', True)`\n  train_set['VIP'] = train_set['VIP'].fillna(0)\n/tmp/ipykernel_33/3560625083.py:5: FutureWarning: Downcasting object dtype arrays on .fillna, .ffill, .bfill is deprecated and will change in a future version. Call result.infer_objects(copy=False) instead. To opt-in to the future behavior, set `pd.set_option('future.no_silent_downcasting', True)`\n  train_set['CryoSleep'] = train_set['CryoSleep'].fillna(0)\n",
     "output_type": "stream"
    }
   ]
  },
  {
   "cell_type": "code",
   "source": [
    "train_set.info()"
   ],
   "metadata": {
    "execution": {
     "iopub.status.busy": "2024-04-02T01:24:27.777543Z",
     "iopub.execute_input": "2024-04-02T01:24:27.777845Z",
     "iopub.status.idle": "2024-04-02T01:24:27.791660Z",
     "shell.execute_reply.started": "2024-04-02T01:24:27.777820Z",
     "shell.execute_reply": "2024-04-02T01:24:27.790759Z"
    },
    "trusted": true,
    "pycharm": {
     "name": "#%%\n"
    }
   },
   "execution_count": 18,
   "outputs": [
    {
     "name": "stdout",
     "text": "<class 'pandas.core.frame.DataFrame'>\nRangeIndex: 8693 entries, 0 to 8692\nData columns (total 14 columns):\n #   Column        Non-Null Count  Dtype  \n---  ------        --------------  -----  \n 0   PassengerId   8693 non-null   object \n 1   HomePlanet    8492 non-null   object \n 2   CryoSleep     8693 non-null   int64  \n 3   Cabin         8494 non-null   object \n 4   Destination   8511 non-null   object \n 5   Age           8693 non-null   float64\n 6   VIP           8693 non-null   int64  \n 7   RoomService   8512 non-null   float64\n 8   FoodCourt     8510 non-null   float64\n 9   ShoppingMall  8485 non-null   float64\n 10  Spa           8510 non-null   float64\n 11  VRDeck        8505 non-null   float64\n 12  Name          8493 non-null   object \n 13  Transported   8693 non-null   object \ndtypes: float64(6), int64(2), object(6)\nmemory usage: 950.9+ KB\n",
     "output_type": "stream"
    }
   ]
  },
  {
   "cell_type": "markdown",
   "source": [
    "### **HomePlanet和Cabin和Destination**"
   ],
   "metadata": {
    "pycharm": {
     "name": "#%% md\n"
    }
   }
  },
  {
   "cell_type": "code",
   "source": [
    "#统计HomePlanet计数\n",
    "print(train_set['HomePlanet'].value_counts())"
   ],
   "metadata": {
    "execution": {
     "iopub.status.busy": "2024-04-02T01:24:27.793105Z",
     "iopub.execute_input": "2024-04-02T01:24:27.793401Z",
     "iopub.status.idle": "2024-04-02T01:24:27.799590Z",
     "shell.execute_reply.started": "2024-04-02T01:24:27.793378Z",
     "shell.execute_reply": "2024-04-02T01:24:27.798805Z"
    },
    "trusted": true,
    "pycharm": {
     "name": "#%%\n"
    }
   },
   "execution_count": 19,
   "outputs": [
    {
     "name": "stdout",
     "text": "HomePlanet\nEarth     4602\nEuropa    2131\nMars      1759\nName: count, dtype: int64\n",
     "output_type": "stream"
    }
   ]
  },
  {
   "cell_type": "code",
   "source": [
    "# ok直接编码\n",
    "train_set.loc[train_set['HomePlanet'] == 'Earth', 'HomePlanet'] = 0\n",
    "train_set.loc[train_set['HomePlanet'] == 'Europa', 'HomePlanet'] = 1\n",
    "train_set.loc[train_set['HomePlanet'] == 'Mars', 'HomePlanet'] = 2\n",
    "train_set.head(10)"
   ],
   "metadata": {
    "execution": {
     "iopub.status.busy": "2024-04-02T01:24:27.801345Z",
     "iopub.execute_input": "2024-04-02T01:24:27.801769Z",
     "iopub.status.idle": "2024-04-02T01:24:27.829319Z",
     "shell.execute_reply.started": "2024-04-02T01:24:27.801735Z",
     "shell.execute_reply": "2024-04-02T01:24:27.828522Z"
    },
    "trusted": true,
    "pycharm": {
     "name": "#%%\n"
    }
   },
   "execution_count": 20,
   "outputs": [
    {
     "execution_count": 20,
     "output_type": "execute_result",
     "data": {
      "text/plain": "  PassengerId HomePlanet  CryoSleep  Cabin    Destination   Age  VIP  \\\n0     0001_01          1          0  B/0/P    TRAPPIST-1e  39.0    0   \n1     0002_01          0          0  F/0/S    TRAPPIST-1e  24.0    0   \n2     0003_01          1          0  A/0/S    TRAPPIST-1e  58.0    1   \n3     0003_02          1          0  A/0/S    TRAPPIST-1e  33.0    0   \n4     0004_01          0          0  F/1/S    TRAPPIST-1e  16.0    0   \n5     0005_01          0          0  F/0/P  PSO J318.5-22  44.0    0   \n6     0006_01          0          0  F/2/S    TRAPPIST-1e  26.0    0   \n7     0006_02          0          1  G/0/S    TRAPPIST-1e  28.0    0   \n8     0007_01          0          0  F/3/S    TRAPPIST-1e  35.0    0   \n9     0008_01          1          1  B/1/P    55 Cancri e  14.0    0   \n\n   RoomService  FoodCourt  ShoppingMall     Spa  VRDeck                Name  \\\n0          0.0        0.0           0.0     0.0     0.0     Maham Ofracculy   \n1        109.0        9.0          25.0   549.0    44.0        Juanna Vines   \n2         43.0     3576.0           0.0  6715.0    49.0       Altark Susent   \n3          0.0     1283.0         371.0  3329.0   193.0        Solam Susent   \n4        303.0       70.0         151.0   565.0     2.0   Willy Santantines   \n5          0.0      483.0           0.0   291.0     0.0   Sandie Hinetthews   \n6         42.0     1539.0           3.0     0.0     0.0  Billex Jacostaffey   \n7          0.0        0.0           0.0     0.0     NaN  Candra Jacostaffey   \n8          0.0      785.0          17.0   216.0     0.0       Andona Beston   \n9          0.0        0.0           0.0     0.0     0.0      Erraiam Flatic   \n\n  Transported  \n0           0  \n1           1  \n2           0  \n3           0  \n4           1  \n5           1  \n6           1  \n7           1  \n8           1  \n9           1  ",
      "text/html": "<div>\n<style scoped>\n    .dataframe tbody tr th:only-of-type {\n        vertical-align: middle;\n    }\n\n    .dataframe tbody tr th {\n        vertical-align: top;\n    }\n\n    .dataframe thead th {\n        text-align: right;\n    }\n</style>\n<table border=\"1\" class=\"dataframe\">\n  <thead>\n    <tr style=\"text-align: right;\">\n      <th></th>\n      <th>PassengerId</th>\n      <th>HomePlanet</th>\n      <th>CryoSleep</th>\n      <th>Cabin</th>\n      <th>Destination</th>\n      <th>Age</th>\n      <th>VIP</th>\n      <th>RoomService</th>\n      <th>FoodCourt</th>\n      <th>ShoppingMall</th>\n      <th>Spa</th>\n      <th>VRDeck</th>\n      <th>Name</th>\n      <th>Transported</th>\n    </tr>\n  </thead>\n  <tbody>\n    <tr>\n      <th>0</th>\n      <td>0001_01</td>\n      <td>1</td>\n      <td>0</td>\n      <td>B/0/P</td>\n      <td>TRAPPIST-1e</td>\n      <td>39.0</td>\n      <td>0</td>\n      <td>0.0</td>\n      <td>0.0</td>\n      <td>0.0</td>\n      <td>0.0</td>\n      <td>0.0</td>\n      <td>Maham Ofracculy</td>\n      <td>0</td>\n    </tr>\n    <tr>\n      <th>1</th>\n      <td>0002_01</td>\n      <td>0</td>\n      <td>0</td>\n      <td>F/0/S</td>\n      <td>TRAPPIST-1e</td>\n      <td>24.0</td>\n      <td>0</td>\n      <td>109.0</td>\n      <td>9.0</td>\n      <td>25.0</td>\n      <td>549.0</td>\n      <td>44.0</td>\n      <td>Juanna Vines</td>\n      <td>1</td>\n    </tr>\n    <tr>\n      <th>2</th>\n      <td>0003_01</td>\n      <td>1</td>\n      <td>0</td>\n      <td>A/0/S</td>\n      <td>TRAPPIST-1e</td>\n      <td>58.0</td>\n      <td>1</td>\n      <td>43.0</td>\n      <td>3576.0</td>\n      <td>0.0</td>\n      <td>6715.0</td>\n      <td>49.0</td>\n      <td>Altark Susent</td>\n      <td>0</td>\n    </tr>\n    <tr>\n      <th>3</th>\n      <td>0003_02</td>\n      <td>1</td>\n      <td>0</td>\n      <td>A/0/S</td>\n      <td>TRAPPIST-1e</td>\n      <td>33.0</td>\n      <td>0</td>\n      <td>0.0</td>\n      <td>1283.0</td>\n      <td>371.0</td>\n      <td>3329.0</td>\n      <td>193.0</td>\n      <td>Solam Susent</td>\n      <td>0</td>\n    </tr>\n    <tr>\n      <th>4</th>\n      <td>0004_01</td>\n      <td>0</td>\n      <td>0</td>\n      <td>F/1/S</td>\n      <td>TRAPPIST-1e</td>\n      <td>16.0</td>\n      <td>0</td>\n      <td>303.0</td>\n      <td>70.0</td>\n      <td>151.0</td>\n      <td>565.0</td>\n      <td>2.0</td>\n      <td>Willy Santantines</td>\n      <td>1</td>\n    </tr>\n    <tr>\n      <th>5</th>\n      <td>0005_01</td>\n      <td>0</td>\n      <td>0</td>\n      <td>F/0/P</td>\n      <td>PSO J318.5-22</td>\n      <td>44.0</td>\n      <td>0</td>\n      <td>0.0</td>\n      <td>483.0</td>\n      <td>0.0</td>\n      <td>291.0</td>\n      <td>0.0</td>\n      <td>Sandie Hinetthews</td>\n      <td>1</td>\n    </tr>\n    <tr>\n      <th>6</th>\n      <td>0006_01</td>\n      <td>0</td>\n      <td>0</td>\n      <td>F/2/S</td>\n      <td>TRAPPIST-1e</td>\n      <td>26.0</td>\n      <td>0</td>\n      <td>42.0</td>\n      <td>1539.0</td>\n      <td>3.0</td>\n      <td>0.0</td>\n      <td>0.0</td>\n      <td>Billex Jacostaffey</td>\n      <td>1</td>\n    </tr>\n    <tr>\n      <th>7</th>\n      <td>0006_02</td>\n      <td>0</td>\n      <td>1</td>\n      <td>G/0/S</td>\n      <td>TRAPPIST-1e</td>\n      <td>28.0</td>\n      <td>0</td>\n      <td>0.0</td>\n      <td>0.0</td>\n      <td>0.0</td>\n      <td>0.0</td>\n      <td>NaN</td>\n      <td>Candra Jacostaffey</td>\n      <td>1</td>\n    </tr>\n    <tr>\n      <th>8</th>\n      <td>0007_01</td>\n      <td>0</td>\n      <td>0</td>\n      <td>F/3/S</td>\n      <td>TRAPPIST-1e</td>\n      <td>35.0</td>\n      <td>0</td>\n      <td>0.0</td>\n      <td>785.0</td>\n      <td>17.0</td>\n      <td>216.0</td>\n      <td>0.0</td>\n      <td>Andona Beston</td>\n      <td>1</td>\n    </tr>\n    <tr>\n      <th>9</th>\n      <td>0008_01</td>\n      <td>1</td>\n      <td>1</td>\n      <td>B/1/P</td>\n      <td>55 Cancri e</td>\n      <td>14.0</td>\n      <td>0</td>\n      <td>0.0</td>\n      <td>0.0</td>\n      <td>0.0</td>\n      <td>0.0</td>\n      <td>0.0</td>\n      <td>Erraiam Flatic</td>\n      <td>1</td>\n    </tr>\n  </tbody>\n</table>\n</div>"
     },
     "metadata": {}
    }
   ]
  },
  {
   "cell_type": "code",
   "source": [
    "#看看测试集干不干净\n",
    "print(test_set['HomePlanet'].value_counts())"
   ],
   "metadata": {
    "execution": {
     "iopub.status.busy": "2024-04-02T01:24:27.830153Z",
     "iopub.execute_input": "2024-04-02T01:24:27.830415Z",
     "iopub.status.idle": "2024-04-02T01:24:27.839603Z",
     "shell.execute_reply.started": "2024-04-02T01:24:27.830392Z",
     "shell.execute_reply": "2024-04-02T01:24:27.838665Z"
    },
    "trusted": true,
    "pycharm": {
     "name": "#%%\n"
    }
   },
   "execution_count": 21,
   "outputs": [
    {
     "name": "stdout",
     "text": "HomePlanet\nEarth     2263\nEuropa    1002\nMars       925\nName: count, dtype: int64\n",
     "output_type": "stream"
    }
   ]
  },
  {
   "cell_type": "code",
   "source": [
    "test_set.loc[test_set['HomePlanet'] == 'Earth', 'HomePlanet'] = 0\n",
    "test_set.loc[test_set['HomePlanet'] == 'Europa', 'HomePlanet'] = 1\n",
    "test_set.loc[test_set['HomePlanet'] == 'Mars', 'HomePlanet'] = 2\n",
    "test_set.head(10)"
   ],
   "metadata": {
    "execution": {
     "iopub.status.busy": "2024-04-02T01:24:27.840812Z",
     "iopub.execute_input": "2024-04-02T01:24:27.841340Z",
     "iopub.status.idle": "2024-04-02T01:24:27.868981Z",
     "shell.execute_reply.started": "2024-04-02T01:24:27.841312Z",
     "shell.execute_reply": "2024-04-02T01:24:27.868047Z"
    },
    "trusted": true,
    "pycharm": {
     "name": "#%%\n"
    }
   },
   "execution_count": 22,
   "outputs": [
    {
     "execution_count": 22,
     "output_type": "execute_result",
     "data": {
      "text/plain": "  PassengerId HomePlanet CryoSleep  Cabin  Destination   Age VIP  RoomService  \\\n0     0013_01          0         0  G/3/S  TRAPPIST-1e  27.0   0          0.0   \n1     0018_01          0         0  F/4/S  TRAPPIST-1e  19.0   0          0.0   \n2     0019_01          1         0  C/0/S  55 Cancri e  31.0   1          0.0   \n3     0021_01          1         0  C/1/S  TRAPPIST-1e  38.0   0          0.0   \n4     0023_01          0         0  F/5/S  TRAPPIST-1e  20.0   0         10.0   \n5     0027_01          0         0  F/7/P  TRAPPIST-1e  31.0   0          0.0   \n6     0029_01          1         0  B/2/P  55 Cancri e  21.0   0          0.0   \n7     0032_01          1         1  D/0/S  TRAPPIST-1e  20.0   0          0.0   \n8     0032_02          1         0  D/0/S  55 Cancri e  23.0   0          0.0   \n9     0033_01          0         1  F/7/S  55 Cancri e  24.0   0          0.0   \n\n   FoodCourt  ShoppingMall     Spa  VRDeck               Name  \n0        0.0           0.0     0.0     0.0    Nelly Carsoning  \n1        9.0           0.0  2823.0     0.0     Lerome Peckers  \n2        0.0           0.0     0.0     0.0    Sabih Unhearfus  \n3     6652.0           0.0   181.0   585.0   Meratz Caltilter  \n4        0.0         635.0     0.0     0.0    Brence Harperez  \n5     1615.0         263.0   113.0    60.0       Karlen Ricks  \n6        NaN           0.0     0.0     0.0    Aldah Ainserfle  \n7        0.0           0.0     0.0     0.0     Acrabi Pringry  \n8        0.0           0.0     0.0     0.0      Dhena Pringry  \n9      639.0           0.0     0.0     0.0  Eliana Delazarson  ",
      "text/html": "<div>\n<style scoped>\n    .dataframe tbody tr th:only-of-type {\n        vertical-align: middle;\n    }\n\n    .dataframe tbody tr th {\n        vertical-align: top;\n    }\n\n    .dataframe thead th {\n        text-align: right;\n    }\n</style>\n<table border=\"1\" class=\"dataframe\">\n  <thead>\n    <tr style=\"text-align: right;\">\n      <th></th>\n      <th>PassengerId</th>\n      <th>HomePlanet</th>\n      <th>CryoSleep</th>\n      <th>Cabin</th>\n      <th>Destination</th>\n      <th>Age</th>\n      <th>VIP</th>\n      <th>RoomService</th>\n      <th>FoodCourt</th>\n      <th>ShoppingMall</th>\n      <th>Spa</th>\n      <th>VRDeck</th>\n      <th>Name</th>\n    </tr>\n  </thead>\n  <tbody>\n    <tr>\n      <th>0</th>\n      <td>0013_01</td>\n      <td>0</td>\n      <td>0</td>\n      <td>G/3/S</td>\n      <td>TRAPPIST-1e</td>\n      <td>27.0</td>\n      <td>0</td>\n      <td>0.0</td>\n      <td>0.0</td>\n      <td>0.0</td>\n      <td>0.0</td>\n      <td>0.0</td>\n      <td>Nelly Carsoning</td>\n    </tr>\n    <tr>\n      <th>1</th>\n      <td>0018_01</td>\n      <td>0</td>\n      <td>0</td>\n      <td>F/4/S</td>\n      <td>TRAPPIST-1e</td>\n      <td>19.0</td>\n      <td>0</td>\n      <td>0.0</td>\n      <td>9.0</td>\n      <td>0.0</td>\n      <td>2823.0</td>\n      <td>0.0</td>\n      <td>Lerome Peckers</td>\n    </tr>\n    <tr>\n      <th>2</th>\n      <td>0019_01</td>\n      <td>1</td>\n      <td>0</td>\n      <td>C/0/S</td>\n      <td>55 Cancri e</td>\n      <td>31.0</td>\n      <td>1</td>\n      <td>0.0</td>\n      <td>0.0</td>\n      <td>0.0</td>\n      <td>0.0</td>\n      <td>0.0</td>\n      <td>Sabih Unhearfus</td>\n    </tr>\n    <tr>\n      <th>3</th>\n      <td>0021_01</td>\n      <td>1</td>\n      <td>0</td>\n      <td>C/1/S</td>\n      <td>TRAPPIST-1e</td>\n      <td>38.0</td>\n      <td>0</td>\n      <td>0.0</td>\n      <td>6652.0</td>\n      <td>0.0</td>\n      <td>181.0</td>\n      <td>585.0</td>\n      <td>Meratz Caltilter</td>\n    </tr>\n    <tr>\n      <th>4</th>\n      <td>0023_01</td>\n      <td>0</td>\n      <td>0</td>\n      <td>F/5/S</td>\n      <td>TRAPPIST-1e</td>\n      <td>20.0</td>\n      <td>0</td>\n      <td>10.0</td>\n      <td>0.0</td>\n      <td>635.0</td>\n      <td>0.0</td>\n      <td>0.0</td>\n      <td>Brence Harperez</td>\n    </tr>\n    <tr>\n      <th>5</th>\n      <td>0027_01</td>\n      <td>0</td>\n      <td>0</td>\n      <td>F/7/P</td>\n      <td>TRAPPIST-1e</td>\n      <td>31.0</td>\n      <td>0</td>\n      <td>0.0</td>\n      <td>1615.0</td>\n      <td>263.0</td>\n      <td>113.0</td>\n      <td>60.0</td>\n      <td>Karlen Ricks</td>\n    </tr>\n    <tr>\n      <th>6</th>\n      <td>0029_01</td>\n      <td>1</td>\n      <td>0</td>\n      <td>B/2/P</td>\n      <td>55 Cancri e</td>\n      <td>21.0</td>\n      <td>0</td>\n      <td>0.0</td>\n      <td>NaN</td>\n      <td>0.0</td>\n      <td>0.0</td>\n      <td>0.0</td>\n      <td>Aldah Ainserfle</td>\n    </tr>\n    <tr>\n      <th>7</th>\n      <td>0032_01</td>\n      <td>1</td>\n      <td>1</td>\n      <td>D/0/S</td>\n      <td>TRAPPIST-1e</td>\n      <td>20.0</td>\n      <td>0</td>\n      <td>0.0</td>\n      <td>0.0</td>\n      <td>0.0</td>\n      <td>0.0</td>\n      <td>0.0</td>\n      <td>Acrabi Pringry</td>\n    </tr>\n    <tr>\n      <th>8</th>\n      <td>0032_02</td>\n      <td>1</td>\n      <td>0</td>\n      <td>D/0/S</td>\n      <td>55 Cancri e</td>\n      <td>23.0</td>\n      <td>0</td>\n      <td>0.0</td>\n      <td>0.0</td>\n      <td>0.0</td>\n      <td>0.0</td>\n      <td>0.0</td>\n      <td>Dhena Pringry</td>\n    </tr>\n    <tr>\n      <th>9</th>\n      <td>0033_01</td>\n      <td>0</td>\n      <td>1</td>\n      <td>F/7/S</td>\n      <td>55 Cancri e</td>\n      <td>24.0</td>\n      <td>0</td>\n      <td>0.0</td>\n      <td>639.0</td>\n      <td>0.0</td>\n      <td>0.0</td>\n      <td>0.0</td>\n      <td>Eliana Delazarson</td>\n    </tr>\n  </tbody>\n</table>\n</div>"
     },
     "metadata": {}
    }
   ]
  },
  {
   "cell_type": "code",
   "source": [
    "#  填充缺失值\n",
    "sum(train_set['HomePlanet'].isna())"
   ],
   "metadata": {
    "execution": {
     "iopub.status.busy": "2024-04-02T01:24:27.870183Z",
     "iopub.execute_input": "2024-04-02T01:24:27.870438Z",
     "iopub.status.idle": "2024-04-02T01:24:27.877645Z",
     "shell.execute_reply.started": "2024-04-02T01:24:27.870417Z",
     "shell.execute_reply": "2024-04-02T01:24:27.876713Z"
    },
    "trusted": true,
    "pycharm": {
     "name": "#%%\n"
    }
   },
   "execution_count": 23,
   "outputs": [
    {
     "execution_count": 23,
     "output_type": "execute_result",
     "data": {
      "text/plain": "201"
     },
     "metadata": {}
    }
   ]
  },
  {
   "cell_type": "code",
   "source": [
    "sum_train = sum(train_set['HomePlanet'].isna())\n",
    "sum_test = sum(test_set['HomePlanet'].isna())"
   ],
   "metadata": {
    "execution": {
     "iopub.status.busy": "2024-04-02T01:24:27.878514Z",
     "iopub.execute_input": "2024-04-02T01:24:27.878801Z",
     "iopub.status.idle": "2024-04-02T01:24:27.889374Z",
     "shell.execute_reply.started": "2024-04-02T01:24:27.878777Z",
     "shell.execute_reply": "2024-04-02T01:24:27.888457Z"
    },
    "trusted": true,
    "pycharm": {
     "name": "#%%\n"
    }
   },
   "execution_count": 24,
   "outputs": []
  },
  {
   "cell_type": "code",
   "source": [
    "count_train_earth = 4602\n",
    "count_train_europa = 2132\n",
    "count_train_mars = 1759\n",
    "\n",
    "count_test_earth = 2263\n",
    "count_test_europa = 1002\n",
    "count_test_mars = 925"
   ],
   "metadata": {
    "execution": {
     "iopub.status.busy": "2024-04-02T01:24:27.890723Z",
     "iopub.execute_input": "2024-04-02T01:24:27.891112Z",
     "iopub.status.idle": "2024-04-02T01:24:27.901398Z",
     "shell.execute_reply.started": "2024-04-02T01:24:27.891078Z",
     "shell.execute_reply": "2024-04-02T01:24:27.900586Z"
    },
    "trusted": true,
    "pycharm": {
     "name": "#%%\n"
    }
   },
   "execution_count": 25,
   "outputs": []
  },
  {
   "cell_type": "code",
   "source": [
    "#定义一个填充函数\n",
    "def fill_HomePlanet(myset,count_earth, count_europa, count_mars,s):\n",
    "    # 算每个目的地的比例\n",
    "    rearth = count_earth/s\n",
    "    reuropa = count_europa/s\n",
    "    rmars = count_mars/s\n",
    "#     print(earth, europa, mars)\n",
    "    \n",
    "    #计算空的有多少\n",
    "    all_item = myset['HomePlanet'].isna().sum()\n",
    "    nullCount = all_item - sum(myset['HomePlanet'].value_counts())\n",
    "    \n",
    "    # 计算每个目的地该填充多少个\n",
    "    earth =int(rearth * nullCount) \n",
    "    europa =int(reuropa * nullCount)\n",
    "    mars = int(rmars * nullCount)\n",
    "    if(earth+europa+mars < nullCount):\n",
    "        earth += nullCount-(earth+europa+mars)\n",
    "    print(earth+europa+mars)\n",
    "    \n",
    "    # 开始按比例填充\n",
    "    count = 0;\n",
    "    if count<earth:\n",
    "        myset['HomePlanet'] = myset['HomePlanet'].fillna(0)\n",
    "        count += 1\n",
    "    elif (count<(europa+earth)) :\n",
    "        myset['HomePlanet'] = myset['HomePlanet'].fillna(1)\n",
    "        count += 1\n",
    "    else:\n",
    "        myset['HomePlanet'] = myset['HomePlanet'].fillna(2)\n",
    "        count += 1\n",
    "    "
   ],
   "metadata": {
    "execution": {
     "iopub.status.busy": "2024-04-02T01:24:27.902776Z",
     "iopub.execute_input": "2024-04-02T01:24:27.903091Z"
    },
    "trusted": true,
    "pycharm": {
     "name": "#%%\n"
    }
   },
   "execution_count": null,
   "outputs": []
  },
  {
   "cell_type": "code",
   "source": [
    "fill_HomePlanet(train_set,count_train_earth, count_train_europa,count_train_mars, sum_train )"
   ],
   "metadata": {
    "trusted": true,
    "pycharm": {
     "name": "#%%\n"
    }
   },
   "execution_count": null,
   "outputs": []
  },
  {
   "cell_type": "code",
   "source": [
    "train_set.info()"
   ],
   "metadata": {
    "trusted": true,
    "pycharm": {
     "name": "#%%\n"
    }
   },
   "execution_count": null,
   "outputs": []
  },
  {
   "cell_type": "code",
   "source": [
    "fill_HomePlanet(test_set,count_test_earth, count_test_europa,count_test_mars, sum_test )\n",
    "test_set.info()"
   ],
   "metadata": {
    "trusted": true,
    "pycharm": {
     "name": "#%%\n"
    }
   },
   "execution_count": null,
   "outputs": []
  },
  {
   "cell_type": "markdown",
   "source": [
    "**TODO：处理Cabin**\n"
   ],
   "metadata": {
    "pycharm": {
     "name": "#%% md\n"
    }
   }
  },
  {
   "cell_type": "code",
   "source": [
    "# print(train_set['Cabin'].value_counts())\n",
    "#直接把S 和P分开好了 要用正则表达式\n",
    "\n",
    "import re\n",
    "def last_char(s):\n",
    "    match = re.search(r'.$', s)\n",
    "    return match.group()"
   ],
   "metadata": {
    "trusted": true,
    "pycharm": {
     "name": "#%%\n"
    }
   },
   "execution_count": null,
   "outputs": []
  },
  {
   "cell_type": "code",
   "source": [
    "train_set['Cabin']"
   ],
   "metadata": {
    "trusted": true,
    "pycharm": {
     "name": "#%%\n"
    }
   },
   "execution_count": null,
   "outputs": []
  },
  {
   "cell_type": "code",
   "source": [
    "print(train_set.info())"
   ],
   "metadata": {
    "trusted": true,
    "pycharm": {
     "name": "#%%\n"
    }
   },
   "execution_count": null,
   "outputs": []
  },
  {
   "cell_type": "markdown",
   "source": [
    "**处理Destination**"
   ],
   "metadata": {
    "pycharm": {
     "name": "#%% md\n"
    }
   }
  },
  {
   "cell_type": "code",
   "source": [
    "print(train_set['Destination'].value_counts())#8511条，缺失182 "
   ],
   "metadata": {
    "trusted": true,
    "pycharm": {
     "name": "#%%\n"
    }
   },
   "execution_count": null,
   "outputs": []
  },
  {
   "cell_type": "code",
   "source": [
    "#按比例填充缺失值吧\n",
    "s = sum(train_set['Destination'].value_counts())\n",
    "# countTRA = (train_set['Destination']==\"TRAPPIST-1e\").value_counts()[0]  # 取出值为True的总数5915\n",
    "# # (train_set['Destination']==\"TRAPPIST-1e\").value_counts()\n",
    "# countCAN =  (train_set['Destination']==\"55 Cancri e\").value_counts()\n",
    "# countPSO = (train_set['Destination']==\"PSO J318.5-22\").value_counts()[0] \n",
    "# print(countTRA, countCAN, countPSO)\n",
    "\n",
    "# TODO:用代码取出各个目的地的值，搞了半小时实在没搞出，先手动了\n",
    "countTRA = 5915\n",
    "countCAN = 1800\n",
    "countPSO = 796"
   ],
   "metadata": {
    "trusted": true,
    "pycharm": {
     "name": "#%%\n"
    }
   },
   "execution_count": null,
   "outputs": []
  },
  {
   "cell_type": "markdown",
   "source": [
    "坏了 咋按比例填充"
   ],
   "metadata": {
    "pycharm": {
     "name": "#%% md\n"
    }
   }
  },
  {
   "cell_type": "code",
   "source": [
    "train_set.loc[train_set['Destination'] == 'TRAPPIST-1e', 'Destination'] = 0\n",
    "train_set.loc[train_set['Destination'] == '55 Cancri e', 'Destination'] = 1\n",
    "train_set.loc[train_set['Destination'] == 'PSO J318.5-22', 'Destination'] = 2\n",
    "\n",
    "test_set.loc[test_set['Destination'] == 'TRAPPIST-1e', 'Destination'] = 0\n",
    "test_set.loc[test_set['Destination'] == '55 Cancri e', 'Destination'] = 1\n",
    "test_set.loc[test_set['Destination'] == 'PSO J318.5-22', 'Destination'] = 2"
   ],
   "metadata": {
    "trusted": true,
    "pycharm": {
     "name": "#%%\n"
    }
   },
   "execution_count": null,
   "outputs": []
  },
  {
   "cell_type": "code",
   "source": [
    "train_set.head(10)"
   ],
   "metadata": {
    "trusted": true,
    "pycharm": {
     "name": "#%%\n"
    }
   },
   "execution_count": null,
   "outputs": []
  },
  {
   "cell_type": "code",
   "source": [
    "test_set.head(10)"
   ],
   "metadata": {
    "trusted": true,
    "pycharm": {
     "name": "#%%\n"
    }
   },
   "execution_count": null,
   "outputs": []
  },
  {
   "cell_type": "code",
   "source": [
    "#定义一个填充函数，累死了\n",
    "def fill_Destination(myset,countTRA, countCAN, countPSO,s):\n",
    "    # 算每个目的地的比例\n",
    "    rTRA = countTRA/s\n",
    "    rCAN = countCAN/s\n",
    "    rPSO = countPSO/s\n",
    "    print(rTRA, rCAN, rPSO)\n",
    "    \n",
    "    #计算空的有多少\n",
    "    all_item = myset['Destination'].isna().sum()\n",
    "    nullCount = all_item - sum(myset['Destination'].value_counts())\n",
    "    \n",
    "    # 计算每个目的地该填充多少个\n",
    "    TRA =int(rTRA * nullCount) \n",
    "    CAN =int(rCAN * nullCount)\n",
    "    PSO = int(rPSO * nullCount)\n",
    "    if(TRA+CAN+PSO < nullCount):\n",
    "        TRA += nullCount-(TRA+CAN+PSO)\n",
    "    print(TRA+CAN+PSO)\n",
    "    \n",
    "    # 开始按比例填充\n",
    "    count = 0;\n",
    "    if count<TRA:\n",
    "        myset['Destination'] = myset['Destination'].fillna(0)\n",
    "        count += 1\n",
    "    elif (count<(TRA+CAN)) :\n",
    "        myset['Destination'] = myset['Destination'].fillna(1)\n",
    "        count += 1\n",
    "    else:\n",
    "        myset['Destination'] = myset['Destination'].fillna(2)\n",
    "        count += 1\n",
    "    \n",
    "  "
   ],
   "metadata": {
    "trusted": true,
    "pycharm": {
     "name": "#%%\n"
    }
   },
   "execution_count": null,
   "outputs": []
  },
  {
   "cell_type": "code",
   "source": [
    "print(train_set.info())"
   ],
   "metadata": {
    "trusted": true,
    "pycharm": {
     "name": "#%%\n"
    }
   },
   "execution_count": null,
   "outputs": []
  },
  {
   "cell_type": "code",
   "source": [
    "fill_Destination(train_set, countTRA,countCAN,countPSO,s )"
   ],
   "metadata": {
    "trusted": true,
    "pycharm": {
     "name": "#%%\n"
    }
   },
   "execution_count": null,
   "outputs": []
  },
  {
   "cell_type": "code",
   "source": [
    "print(train_set.info())"
   ],
   "metadata": {
    "trusted": true,
    "pycharm": {
     "name": "#%%\n"
    }
   },
   "execution_count": null,
   "outputs": []
  },
  {
   "cell_type": "code",
   "source": [
    "print(test_set['Destination'].value_counts())"
   ],
   "metadata": {
    "trusted": true,
    "pycharm": {
     "name": "#%%\n"
    }
   },
   "execution_count": null,
   "outputs": []
  },
  {
   "cell_type": "code",
   "source": [
    "s_test = sum(test_set['Destination'].value_counts())\n",
    "countTRA_test = 2956\n",
    "countCAN_test = 841\n",
    "countPSO_test = 388\n",
    "\n",
    "fill_Destination(test_set,countTRA_test,countCAN_test,countPSO_test,s_test)\n"
   ],
   "metadata": {
    "trusted": true,
    "pycharm": {
     "name": "#%%\n"
    }
   },
   "execution_count": null,
   "outputs": []
  },
  {
   "cell_type": "code",
   "source": [
    "test_set.info()"
   ],
   "metadata": {
    "trusted": true,
    "pycharm": {
     "name": "#%%\n"
    }
   },
   "execution_count": null,
   "outputs": []
  },
  {
   "cell_type": "markdown",
   "source": [
    "## 其他的\n",
    "\n",
    "RoomServic, FoodCourt, ShoppingMall, Spa, VRDeck 中位数为0，所以都填充为0"
   ],
   "metadata": {
    "pycharm": {
     "name": "#%% md\n"
    }
   }
  },
  {
   "cell_type": "code",
   "source": [
    "# RoomService\n",
    "train_set['RoomService'].value_counts()\n",
    "train_set['RoomService'] = train_set['RoomService'].fillna(0)"
   ],
   "metadata": {
    "trusted": true,
    "pycharm": {
     "name": "#%%\n"
    }
   },
   "execution_count": null,
   "outputs": []
  },
  {
   "cell_type": "code",
   "source": [
    "test_set['RoomService'].value_counts()\n",
    "test_set['RoomService'] = train_set['RoomService'].fillna(0)"
   ],
   "metadata": {
    "trusted": true,
    "pycharm": {
     "name": "#%%\n"
    }
   },
   "execution_count": null,
   "outputs": []
  },
  {
   "cell_type": "code",
   "source": [
    "train_set['FoodCourt'].value_counts()\n",
    "train_set['FoodCourt'] = train_set['RoomService'].fillna(0)"
   ],
   "metadata": {
    "trusted": true,
    "pycharm": {
     "name": "#%%\n"
    }
   },
   "execution_count": null,
   "outputs": []
  },
  {
   "cell_type": "code",
   "source": [
    "test_set['FoodCourt'] = test_set['RoomService'].fillna(0)"
   ],
   "metadata": {
    "trusted": true,
    "pycharm": {
     "name": "#%%\n"
    }
   },
   "execution_count": null,
   "outputs": []
  },
  {
   "cell_type": "code",
   "source": [
    "train_set['ShoppingMall'].value_counts() #5587\n",
    "train_set['ShoppingMall'] = train_set['ShoppingMall'].fillna(0)\n",
    "test_set['ShoppingMall'] = test_set['ShoppingMall'].fillna(0)"
   ],
   "metadata": {
    "trusted": true,
    "pycharm": {
     "name": "#%%\n"
    }
   },
   "execution_count": null,
   "outputs": []
  },
  {
   "cell_type": "code",
   "source": [
    "train_set['Spa'].value_counts() #5327\n",
    "train_set['Spa'] = train_set['Spa'].fillna(0)\n",
    "test_set['Spa'] = test_set['Spa'].fillna(0)"
   ],
   "metadata": {
    "trusted": true,
    "pycharm": {
     "name": "#%%\n"
    }
   },
   "execution_count": null,
   "outputs": []
  },
  {
   "cell_type": "code",
   "source": [
    "train_set['VRDeck'].value_counts() #5495\n",
    "train_set['VRDeck'] = train_set['VRDeck'].fillna(0)\n",
    "test_set['VRDeck'] = test_set['VRDeck'].fillna(0)"
   ],
   "metadata": {
    "trusted": true,
    "pycharm": {
     "name": "#%%\n"
    }
   },
   "execution_count": null,
   "outputs": []
  },
  {
   "cell_type": "code",
   "source": [
    "train_set.info()"
   ],
   "metadata": {
    "trusted": true,
    "pycharm": {
     "name": "#%%\n"
    }
   },
   "execution_count": null,
   "outputs": []
  },
  {
   "cell_type": "code",
   "source": [
    "train_set['Transported'] = train_set['Transported'].astype(int)"
   ],
   "metadata": {
    "trusted": true,
    "pycharm": {
     "name": "#%%\n"
    }
   },
   "execution_count": null,
   "outputs": []
  },
  {
   "cell_type": "code",
   "source": [
    "test_set.info()"
   ],
   "metadata": {
    "trusted": true,
    "pycharm": {
     "name": "#%%\n"
    }
   },
   "execution_count": null,
   "outputs": []
  },
  {
   "cell_type": "code",
   "source": [
    "test_set['CryoSleep'] = test_set['CryoSleep'].astype(int)\n",
    "test_set['VIP'] = test_set['VIP'].astype(int)"
   ],
   "metadata": {
    "trusted": true,
    "pycharm": {
     "name": "#%%\n"
    }
   },
   "execution_count": null,
   "outputs": []
  },
  {
   "cell_type": "code",
   "source": [
    "test_set.info()"
   ],
   "metadata": {
    "trusted": true,
    "pycharm": {
     "name": "#%%\n"
    }
   },
   "execution_count": null,
   "outputs": []
  },
  {
   "cell_type": "markdown",
   "source": [
    "## 准备训练"
   ],
   "metadata": {
    "pycharm": {
     "name": "#%% md\n"
    }
   }
  },
  {
   "cell_type": "code",
   "source": [
    "x_train = train_set.drop(['Transported'], axis=1)\n",
    "x_train = x_train.drop(['PassengerId'], axis=1)\n",
    "x_train = x_train.drop(['Cabin'], axis=1)\n",
    "x_train = x_train.drop(['Name'], axis=1)"
   ],
   "metadata": {
    "execution": {
     "iopub.status.idle": "2024-04-02T01:24:29.101864Z",
     "shell.execute_reply.started": "2024-04-02T01:24:29.088710Z",
     "shell.execute_reply": "2024-04-02T01:24:29.100661Z"
    },
    "trusted": true,
    "pycharm": {
     "name": "#%%\n"
    }
   },
   "execution_count": 57,
   "outputs": []
  },
  {
   "cell_type": "code",
   "source": [
    "x_train = x_train.values\n",
    "x_train"
   ],
   "metadata": {
    "execution": {
     "iopub.status.busy": "2024-04-02T01:24:29.103658Z",
     "iopub.execute_input": "2024-04-02T01:24:29.103992Z",
     "iopub.status.idle": "2024-04-02T01:24:29.111895Z",
     "shell.execute_reply.started": "2024-04-02T01:24:29.103964Z",
     "shell.execute_reply": "2024-04-02T01:24:29.111162Z"
    },
    "trusted": true,
    "pycharm": {
     "name": "#%%\n"
    }
   },
   "execution_count": 58,
   "outputs": [
    {
     "execution_count": 58,
     "output_type": "execute_result",
     "data": {
      "text/plain": "array([[1.000e+00, 0.000e+00, 0.000e+00, ..., 0.000e+00, 0.000e+00,\n        0.000e+00],\n       [0.000e+00, 0.000e+00, 0.000e+00, ..., 2.500e+01, 5.490e+02,\n        4.400e+01],\n       [1.000e+00, 0.000e+00, 0.000e+00, ..., 0.000e+00, 6.715e+03,\n        4.900e+01],\n       ...,\n       [0.000e+00, 0.000e+00, 0.000e+00, ..., 1.872e+03, 1.000e+00,\n        0.000e+00],\n       [1.000e+00, 0.000e+00, 1.000e+00, ..., 0.000e+00, 3.530e+02,\n        3.235e+03],\n       [1.000e+00, 0.000e+00, 0.000e+00, ..., 0.000e+00, 0.000e+00,\n        1.200e+01]])"
     },
     "metadata": {}
    }
   ]
  },
  {
   "cell_type": "code",
   "source": [
    "\n",
    "x_test = test_set.drop(['PassengerId'], axis=1)\n",
    "x_test = x_test.drop(['Cabin'], axis=1)\n",
    "x_test = x_test.drop(['Name'], axis=1)"
   ],
   "metadata": {
    "trusted": true,
    "pycharm": {
     "name": "#%%\n"
    }
   },
   "execution_count": null,
   "outputs": []
  },
  {
   "cell_type": "code",
   "source": [
    "x_test = x_test.values\n",
    "x_test"
   ],
   "metadata": {
    "trusted": true,
    "pycharm": {
     "name": "#%%\n"
    }
   },
   "execution_count": null,
   "outputs": []
  },
  {
   "cell_type": "code",
   "source": [
    "y_train = train_set['Transported'].values\n",
    "y_train"
   ],
   "metadata": {
    "trusted": true,
    "pycharm": {
     "name": "#%%\n"
    }
   },
   "execution_count": null,
   "outputs": []
  },
  {
   "cell_type": "code",
   "source": [
    "# 划分数据集\n",
    "from sklearn.model_selection import train_test_split\n",
    "train_x, val_x, train_y, val_y = train_test_split(x_train, y_train, random_state=666, train_size=0.8)"
   ],
   "metadata": {
    "trusted": true,
    "pycharm": {
     "name": "#%%\n"
    }
   },
   "execution_count": null,
   "outputs": []
  },
  {
   "cell_type": "code",
   "source": [
    "train_x.shape, val_x.shape"
   ],
   "metadata": {
    "trusted": true,
    "pycharm": {
     "name": "#%%\n"
    }
   },
   "execution_count": null,
   "outputs": []
  },
  {
   "cell_type": "code",
   "source": [
    "train_y.shape, val_y.shape"
   ],
   "metadata": {
    "trusted": true,
    "pycharm": {
     "name": "#%%\n"
    }
   },
   "execution_count": null,
   "outputs": []
  },
  {
   "cell_type": "markdown",
   "source": [
    "## normalize"
   ],
   "metadata": {
    "pycharm": {
     "name": "#%% md\n"
    }
   }
  },
  {
   "cell_type": "code",
   "source": [
    "from sklearn.preprocessing import LabelEncoder, StandardScaler\n",
    "from sklearn import metrics\n",
    "from sklearn.svm import SVC\n",
    "from sklearn.linear_model import LogisticRegression\n",
    "scaler = StandardScaler()"
   ],
   "metadata": {
    "trusted": true,
    "pycharm": {
     "name": "#%%\n"
    }
   },
   "execution_count": null,
   "outputs": []
  },
  {
   "cell_type": "code",
   "source": [
    "x_train = scaler.fit_transform(train_x)\n",
    "x_val = scaler.fit_transform(val_x)"
   ],
   "metadata": {
    "trusted": true,
    "pycharm": {
     "name": "#%%\n"
    }
   },
   "execution_count": null,
   "outputs": []
  },
  {
   "cell_type": "markdown",
   "source": [
    "## XGBboost"
   ],
   "metadata": {
    "pycharm": {
     "name": "#%% md\n"
    }
   }
  },
  {
   "cell_type": "code",
   "source": [
    "from sklearn.metrics import roc_auc_score as ras"
   ],
   "metadata": {
    "trusted": true,
    "pycharm": {
     "name": "#%%\n"
    }
   },
   "execution_count": null,
   "outputs": []
  },
  {
   "cell_type": "code",
   "source": [
    "\n",
    "model = XGBClassifier()\n",
    "model.fit(x_train, train_y)\n",
    "print(\"XGBbosst:\\n\")\n",
    "\n",
    "train_preds = model.predict_proba(x_train)[:,1]\n",
    "print(\"Train Acc:{:.5f}\".format(ras(train_y, train_preds)))\n",
    "\n",
    "val_preds = model.predict_proba(x_val)[:,1]\n",
    "print(\"Valid Acc:{:.5f}\".format(ras(val_y, val_preds)))"
   ],
   "metadata": {
    "trusted": true,
    "pycharm": {
     "name": "#%%\n"
    }
   },
   "execution_count": null,
   "outputs": []
  },
  {
   "cell_type": "markdown",
   "source": [
    "过拟合了"
   ],
   "metadata": {
    "pycharm": {
     "name": "#%% md\n"
    }
   }
  },
  {
   "cell_type": "code",
   "source": [
    "y_pred = model.predict(x_val)\n",
    "cm = metrics.confusion_matrix(val_y, y_pred)\n",
    "disp = metrics.ConfusionMatrixDisplay(confusion_matrix=cm)\n",
    "disp.plot()\n",
    "plt.show()"
   ],
   "metadata": {
    "trusted": true,
    "pycharm": {
     "name": "#%%\n"
    }
   },
   "execution_count": null,
   "outputs": []
  },
  {
   "cell_type": "code",
   "source": [
    "print(metrics.classification_report\n",
    "      (val_y, model.predict(x_val)))"
   ],
   "metadata": {
    "trusted": true,
    "pycharm": {
     "name": "#%%\n"
    }
   },
   "execution_count": null,
   "outputs": []
  },
  {
   "cell_type": "markdown",
   "source": [
    "#### TODO: 开始训练\n",
    "我直接扔到神经网络里\n"
   ],
   "metadata": {
    "pycharm": {
     "name": "#%% md\n"
    }
   }
  },
  {
   "cell_type": "markdown",
   "source": [
    "## Submission"
   ],
   "metadata": {
    "pycharm": {
     "name": "#%% md\n"
    }
   }
  },
  {
   "cell_type": "code",
   "source": [
    "x_test = scaler.fit_transform(test_x)"
   ],
   "metadata": {
    "trusted": true,
    "pycharm": {
     "name": "#%%\n"
    }
   },
   "execution_count": null,
   "outputs": []
  },
  {
   "cell_type": "code",
   "source": [
    "predictions = model.predict(x_test)"
   ],
   "metadata": {
    "trusted": true,
    "pycharm": {
     "name": "#%%\n"
    }
   },
   "execution_count": null,
   "outputs": []
  },
  {
   "cell_type": "code",
   "source": [
    "submission_id = test_set.PassengerId"
   ],
   "metadata": {
    "trusted": true,
    "pycharm": {
     "name": "#%%\n"
    }
   },
   "execution_count": null,
   "outputs": []
  },
  {
   "cell_type": "code",
   "source": [
    "submission_id"
   ],
   "metadata": {
    "trusted": true,
    "pycharm": {
     "name": "#%%\n"
    }
   },
   "execution_count": null,
   "outputs": []
  },
  {
   "cell_type": "code",
   "source": [
    "predictions.shape"
   ],
   "metadata": {
    "trusted": true,
    "pycharm": {
     "name": "#%%\n"
    }
   },
   "execution_count": null,
   "outputs": []
  },
  {
   "cell_type": "code",
   "source": [
    "output = pd.DataFrame({'PassengerId': submission_id,\n",
    "                       'Transported': predictions})"
   ],
   "metadata": {
    "trusted": true,
    "pycharm": {
     "name": "#%%\n"
    }
   },
   "execution_count": null,
   "outputs": []
  },
  {
   "cell_type": "code",
   "source": [
    "# output.shape\n",
    "output.head(10)"
   ],
   "metadata": {
    "trusted": true,
    "pycharm": {
     "name": "#%%\n"
    }
   },
   "execution_count": null,
   "outputs": []
  },
  {
   "cell_type": "code",
   "source": [
    "sample_submission_df = pd.read_csv('/kaggle/input/spaceship-titanic/sample_submission.csv')\n",
    "# sample_submission_df['Transported'] = n_predictions\n",
    "# sample_submission_df.to_csv('/kaggle/working/submission.csv', index=False)\n",
    "# sample_submission_df.head()\n",
    "sample_submission_df.head()"
   ],
   "metadata": {
    "trusted": true,
    "pycharm": {
     "name": "#%%\n"
    }
   },
   "execution_count": null,
   "outputs": []
  },
  {
   "cell_type": "code",
   "source": [
    "sample_submission_df['Transported'] = predictions\n",
    "sample_submission_df.to_csv('/kaggle/working/submission.csv', index=False)\n"
   ],
   "metadata": {
    "trusted": true,
    "pycharm": {
     "name": "#%%\n"
    }
   },
   "execution_count": null,
   "outputs": []
  },
  {
   "cell_type": "code",
   "source": [
    "sample_submission_df.head(10)"
   ],
   "metadata": {
    "trusted": true,
    "pycharm": {
     "name": "#%%\n"
    }
   },
   "execution_count": null,
   "outputs": []
  }
 ]
}